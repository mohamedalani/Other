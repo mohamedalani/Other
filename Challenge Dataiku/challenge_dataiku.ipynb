{
 "cells": [
  {
   "cell_type": "markdown",
   "metadata": {},
   "source": [
    "# Recruitment Challenge Dataiku\n",
    "** Mohamed Al Ani **\n",
    "\n",
    "16/05/2017"
   ]
  },
  {
   "cell_type": "markdown",
   "metadata": {},
   "source": [
    "# Challenge"
   ]
  },
  {
   "cell_type": "markdown",
   "metadata": {},
   "source": [
    "The following link lets you download an archive containing an “exercise” US Census dataset: http://thomasdata.s3.amazonaws.com/ds/us_census_full.zip\n",
    "\n",
    "This US Census dataset contains detailed but anonymized information for approximately 300,000 people.\n",
    "\n",
    "The archive contains 3 files:\n",
    "o A large learning .csv file\n",
    "o Another test .csv file\n",
    "o A metadata file describing the columns of the two above mentioned files (identical for both)\n",
    "\n",
    "The goal of this exercise is to model the information contained in the last column (42nd), i.e., which people make more or less than $50,000 / year, from the information contained in the other columns. The exercise here consists of modeling a binary variable.\n",
    "\n",
    "Work with R or Python to carry out the following steps:\n",
    "- Import the learning and text files\n",
    "- Based on the learning file:\n",
    "\n",
    "- Make a quick statistic based and univariate audit of the different columns’ content and produce the results in visual / graphic format. This audit should describe the variable distribution, the % of missing values, the extreme values, and so on.\n",
    "- Create a model using these variables (you can use whichever variables you want, or even create you own; for example, you could find the ratio or relationship between different variables, the one-hot encoding of “categorical” variables, etc.) to model wining more or less than $50,000 / year. Here, the idea would be for you to test one or two algorithms, such as logistic regression, or a decision tree. Feel free to choose others if wish.\n",
    "- Choose the model that appears to have the highest performance based on a comparison between reality (the 42nd variable) and the model’s prediction.\n",
    "- Apply your model to the test file and measure it’s real performance on it (same method as above).\n",
    "\n",
    "The goal of this exercise is not to create the best or the purest model, but rather to describe the steps you took to accomplish it.\n",
    "\n",
    "Explain areas that may have been the most challenging for you.\n",
    "\n",
    "Find clear insights on the profiles of the people that make more than $50,000 / year. For example, which variables seem to be the most correlated with this phenomenon?\n",
    "\n",
    "Finally, you push your code on GitHub to share it with me, or send it via email.\n",
    "\n",
    "Once again, the goal of this exercise is not to solve this problem, but rather to spend a few hours on it and to thoroughly explain your approach. "
   ]
  },
  {
   "cell_type": "markdown",
   "metadata": {},
   "source": [
    "# Imports needed for the challenge"
   ]
  },
  {
   "cell_type": "code",
   "execution_count": 200,
   "metadata": {
    "collapsed": true
   },
   "outputs": [],
   "source": [
    "import pandas as pd\n",
    "import numpy as np\n",
    "import matplotlib.pyplot as plt\n",
    "%matplotlib inline\n",
    "import seaborn as sns\n",
    "from sklearn import preprocessing \n",
    "import itertools\n",
    "from sklearn.metrics import classification_report, confusion_matrix, f1_score, make_scorer\n",
    "from sklearn.linear_model import LogisticRegression\n",
    "from sklearn.model_selection import train_test_split, cross_val_score, GridSearchCV, RandomizedSearchCV\n",
    "from sklearn.feature_selection import RFECV, SelectFromModel\n",
    "from sklearn.ensemble import RandomForestClassifier, GradientBoostingClassifier\n",
    "from xgboost import XGBClassifier\n",
    "from sklearn.neural_network import MLPClassifier"
   ]
  },
  {
   "cell_type": "markdown",
   "metadata": {},
   "source": [
    "# Some useful functions "
   ]
  },
  {
   "cell_type": "markdown",
   "metadata": {},
   "source": [
    "### Function for plotting a confusion matrix"
   ]
  },
  {
   "cell_type": "code",
   "execution_count": 53,
   "metadata": {
    "collapsed": true
   },
   "outputs": [],
   "source": [
    "def plot_confusion_matrix(cm, classes,\n",
    "                          normalize=False,\n",
    "                          title='Confusion matrix',\n",
    "                          cmap=plt.cm.Reds):\n",
    "    \"\"\"\n",
    "    This function prints and plots the confusion matrix.\n",
    "    Normalization can be applied by setting `normalize=True`.\n",
    "    \"\"\"\n",
    "    \n",
    "    if normalize:\n",
    "        cm = cm.astype('float') / cm.sum(axis=0)\n",
    "        cm = np.round(cm,2)\n",
    "        print(\"Normalized confusion matrix\")\n",
    "    else:\n",
    "        print('Confusion matrix, without normalization')\n",
    "        \n",
    "    plt.imshow(cm, interpolation='nearest', cmap=cmap)\n",
    "    plt.title(title)\n",
    "    plt.colorbar()\n",
    "    tick_marks = np.arange(len(classes))\n",
    "    plt.xticks(tick_marks, classes)\n",
    "    plt.yticks(tick_marks, classes)\n",
    "\n",
    "\n",
    "\n",
    "    print(cm)\n",
    "\n",
    "    thresh = cm.max() / 2.\n",
    "    for i, j in itertools.product(range(cm.shape[0]), range(cm.shape[1])):\n",
    "        plt.text(j, i, cm[i, j],\n",
    "                 horizontalalignment=\"center\",\n",
    "                 color=\"black\" if cm[i, j] > thresh else \"white\")\n",
    "\n",
    "    plt.tight_layout()\n",
    "    plt.ylabel('True label')\n",
    "    plt.xlabel('Predicted label')"
   ]
  },
  {
   "cell_type": "markdown",
   "metadata": {},
   "source": [
    "# Reading the CSV using pandas"
   ]
  },
  {
   "cell_type": "code",
   "execution_count": 54,
   "metadata": {
    "collapsed": false
   },
   "outputs": [],
   "source": [
    "#Dictionnary of variables that allows us to have a better understanding of the data\n",
    "column_names_dict = {\"AAGE\": \"age\", \n",
    "        \"ACLSWKR\": \"class of worker\", #private / public\n",
    "        \"ADTIND\" : \"industry code\",\n",
    "        \"ADTOCC\" : \"occupation code\",\n",
    "        \"AHGA\" : \"education\",\n",
    "        \"AHRSPAY\" : \"wage per hour\",\n",
    "        \"AHSCOL\" : \"enrolled in edu inst last wk\",\n",
    "        \"AMARITL\" : \"marital status\",\n",
    "        \"AMJIND\" : \"major industry code\",\n",
    "        \"AMJOCC\" : \"major occupation code\", \n",
    "        \"ARACE\" : \"race\",\n",
    "        \"AREORGN\" : \"hispanic Origin\",\n",
    "        \"ASEX\" : \"sex\", \n",
    "        \"AUNEM\" : \"member of a labor union\",\n",
    "        \"AUNTYPE\" : \"reason for unemployment\",\n",
    "        \"AWKSTAT\" : \"full or part time employment stat\",\n",
    "        \"CAPGAIN\" : \"capital gains\",\n",
    "        \"CAPLOSS\" : \"capital losses\",\n",
    "        \"DIVVAL\" : \"divdends from stocks\",\n",
    "        \"FILESTAT\" : \"tax filer status\",   \n",
    "        \"GRINREG\" : \"region of previous residence\",\n",
    "        \"GRINST\" : \"state of previous residence\",\n",
    "        \"HHDFMX\" : \"detailed household and family stat\",\n",
    "        \"HHDREL\" :  \"detailed household summary in household\",\n",
    "        \"MAESUPWT\" : \"instance weight\",\n",
    "        \"MIGMTR1\" : \"migration code-change in msa\",\n",
    "        \"MIGMTR3\" : \"migration code-change in reg\",\n",
    "        \"MIGMTR4\" : \"migration code-move within reg\",\n",
    "        \"MIGSAME\" : \"live in this house 1 year ago\",\n",
    "        \"MIGSUN\" : \"migration prev res in sunbelt\",\n",
    "        \"NOEMP\" : \"num persons worked for employer\",\n",
    "        \"PARENT\" : \"family members under 18\",      \n",
    "        \"PEARNVAL\" : \"country of birth father\",\n",
    "        \"PEMNTVTY\" : \"country of birth mother\",\n",
    "        \"PENATVTY\" : \"country of birth self\",\n",
    "        \"PRCITSHP\" : \"citizenship\",\n",
    "        \"SEOTR\" : \"own business or self employed\",\n",
    "        \"VETQVA\" : \"fill inc questionnaire for veteran's \",\n",
    "        \"VERYN\" : \"veterans benefits\",\n",
    "        \"WKSWORK\" : \"weeks worked in year\",\n",
    "        \"YEAR\" : \"year\",\n",
    "        \"SALARY\" : \"salary\"}\n",
    "\n",
    "column_names = [\"AAGE\", \"ACLSWKR\", \"ADTIND\", \"ADTOCC\", \"AHGA\", \"AHRSPAY\", \"AHSCOL\",\\\n",
    "                \"AMARITL\", \"AMJIND\", \"AMJOCC\", \"ARACE\", \"AREORGN\", \"ASEX\", \"AUNEMunion\",\\\n",
    "                \"AUNTYPE\", \"AWKSTAT\", \"CAPGAIN\", \"CAPLOSS\", \"DIVVAL\", \"FILESTAT\",\\\n",
    "                \"GRINREG\", \"GRINST\", \"HHDFMX\", \"HHDREL\", \"MAESUPWT\", \"MIGMTR1\", \"MIGMTR3\",\\\n",
    "                \"MIGMTR4\", \"MIGSAME\", \"MIGSUN\", \"NOEMP\", \"PARENT\", \"PEARNVAL\", \"PEMNTVTY\",\\\n",
    "                \"PENATVTY\", \"PRCITSHP\", \"SEOTR\", \"VETQVA\", \"VERYN\", \"WKSWORK\", \"YEAR\", \"SALARY\"]\n",
    "\n",
    "#Continuous and categorical variables will be treated differently \n",
    "continuous_var = [\"AAGE\", \"AHRSPAY\", \"CAPGAIN\", \"CAPLOSS\", \"DIVVAL\", \"NOEMP\", \"WKSWORK\", \"MAESUPWT\", \"SALARY\"]\n",
    "nominal_var = [col for col in column_names if col not in continuous_var]       "
   ]
  },
  {
   "cell_type": "code",
   "execution_count": 345,
   "metadata": {
    "collapsed": false
   },
   "outputs": [],
   "source": [
    "train = pd.read_csv(\"us_census_full/census_income_learn.csv\", names=column_names)\n",
    "test = pd.read_csv(\"us_census_full/census_income_test.csv\", names=column_names)"
   ]
  },
  {
   "cell_type": "code",
   "execution_count": 346,
   "metadata": {
    "collapsed": true
   },
   "outputs": [],
   "source": [
    "origin_train = train.copy()"
   ]
  },
  {
   "cell_type": "markdown",
   "metadata": {},
   "source": [
    "# Some insights"
   ]
  },
  {
   "cell_type": "markdown",
   "metadata": {},
   "source": [
    "### Datasets size "
   ]
  },
  {
   "cell_type": "code",
   "execution_count": 56,
   "metadata": {
    "collapsed": false
   },
   "outputs": [
    {
     "name": "stdout",
     "output_type": "stream",
     "text": [
      "train set : 199523 observations, 42 variables\n",
      "test set : 99762 observations, 42 variables\n"
     ]
    }
   ],
   "source": [
    "print(\"train set : {} observations, {} variables\".format(train.shape[0], train.shape[1]))\n",
    "print(\"test set : {} observations, {} variables\".format(test.shape[0], test.shape[1]))"
   ]
  },
  {
   "cell_type": "markdown",
   "metadata": {},
   "source": [
    "Minimum working age in USA is 16 :"
   ]
  },
  {
   "cell_type": "code",
   "execution_count": 57,
   "metadata": {
    "collapsed": false
   },
   "outputs": [
    {
     "name": "stdout",
     "output_type": "stream",
     "text": [
      "[' - 50000.']\n"
     ]
    }
   ],
   "source": [
    "print(train[train[\"AAGE\"]<16][\"SALARY\"].unique())"
   ]
  },
  {
   "cell_type": "markdown",
   "metadata": {},
   "source": [
    "### Description of continuous variables"
   ]
  },
  {
   "cell_type": "code",
   "execution_count": 58,
   "metadata": {
    "collapsed": false
   },
   "outputs": [
    {
     "data": {
      "text/html": [
       "<div>\n",
       "<table border=\"1\" class=\"dataframe\">\n",
       "  <thead>\n",
       "    <tr style=\"text-align: right;\">\n",
       "      <th></th>\n",
       "      <th>AAGE</th>\n",
       "      <th>AHRSPAY</th>\n",
       "      <th>CAPGAIN</th>\n",
       "      <th>CAPLOSS</th>\n",
       "      <th>DIVVAL</th>\n",
       "      <th>NOEMP</th>\n",
       "      <th>WKSWORK</th>\n",
       "      <th>MAESUPWT</th>\n",
       "    </tr>\n",
       "  </thead>\n",
       "  <tbody>\n",
       "    <tr>\n",
       "      <th>count</th>\n",
       "      <td>199523.000000</td>\n",
       "      <td>199523.000000</td>\n",
       "      <td>199523.00000</td>\n",
       "      <td>199523.000000</td>\n",
       "      <td>199523.000000</td>\n",
       "      <td>199523.000000</td>\n",
       "      <td>199523.000000</td>\n",
       "      <td>199523.000000</td>\n",
       "    </tr>\n",
       "    <tr>\n",
       "      <th>mean</th>\n",
       "      <td>34.494199</td>\n",
       "      <td>55.426908</td>\n",
       "      <td>434.71899</td>\n",
       "      <td>37.313788</td>\n",
       "      <td>197.529533</td>\n",
       "      <td>1.956180</td>\n",
       "      <td>23.174897</td>\n",
       "      <td>1740.380269</td>\n",
       "    </tr>\n",
       "    <tr>\n",
       "      <th>std</th>\n",
       "      <td>22.310895</td>\n",
       "      <td>274.896454</td>\n",
       "      <td>4697.53128</td>\n",
       "      <td>271.896428</td>\n",
       "      <td>1984.163658</td>\n",
       "      <td>2.365126</td>\n",
       "      <td>24.411488</td>\n",
       "      <td>993.768156</td>\n",
       "    </tr>\n",
       "    <tr>\n",
       "      <th>min</th>\n",
       "      <td>0.000000</td>\n",
       "      <td>0.000000</td>\n",
       "      <td>0.00000</td>\n",
       "      <td>0.000000</td>\n",
       "      <td>0.000000</td>\n",
       "      <td>0.000000</td>\n",
       "      <td>0.000000</td>\n",
       "      <td>37.870000</td>\n",
       "    </tr>\n",
       "    <tr>\n",
       "      <th>25%</th>\n",
       "      <td>15.000000</td>\n",
       "      <td>0.000000</td>\n",
       "      <td>0.00000</td>\n",
       "      <td>0.000000</td>\n",
       "      <td>0.000000</td>\n",
       "      <td>0.000000</td>\n",
       "      <td>0.000000</td>\n",
       "      <td>1061.615000</td>\n",
       "    </tr>\n",
       "    <tr>\n",
       "      <th>50%</th>\n",
       "      <td>33.000000</td>\n",
       "      <td>0.000000</td>\n",
       "      <td>0.00000</td>\n",
       "      <td>0.000000</td>\n",
       "      <td>0.000000</td>\n",
       "      <td>1.000000</td>\n",
       "      <td>8.000000</td>\n",
       "      <td>1618.310000</td>\n",
       "    </tr>\n",
       "    <tr>\n",
       "      <th>75%</th>\n",
       "      <td>50.000000</td>\n",
       "      <td>0.000000</td>\n",
       "      <td>0.00000</td>\n",
       "      <td>0.000000</td>\n",
       "      <td>0.000000</td>\n",
       "      <td>4.000000</td>\n",
       "      <td>52.000000</td>\n",
       "      <td>2188.610000</td>\n",
       "    </tr>\n",
       "    <tr>\n",
       "      <th>max</th>\n",
       "      <td>90.000000</td>\n",
       "      <td>9999.000000</td>\n",
       "      <td>99999.00000</td>\n",
       "      <td>4608.000000</td>\n",
       "      <td>99999.000000</td>\n",
       "      <td>6.000000</td>\n",
       "      <td>52.000000</td>\n",
       "      <td>18656.300000</td>\n",
       "    </tr>\n",
       "  </tbody>\n",
       "</table>\n",
       "</div>"
      ],
      "text/plain": [
       "                AAGE        AHRSPAY       CAPGAIN        CAPLOSS  \\\n",
       "count  199523.000000  199523.000000  199523.00000  199523.000000   \n",
       "mean       34.494199      55.426908     434.71899      37.313788   \n",
       "std        22.310895     274.896454    4697.53128     271.896428   \n",
       "min         0.000000       0.000000       0.00000       0.000000   \n",
       "25%        15.000000       0.000000       0.00000       0.000000   \n",
       "50%        33.000000       0.000000       0.00000       0.000000   \n",
       "75%        50.000000       0.000000       0.00000       0.000000   \n",
       "max        90.000000    9999.000000   99999.00000    4608.000000   \n",
       "\n",
       "              DIVVAL          NOEMP        WKSWORK       MAESUPWT  \n",
       "count  199523.000000  199523.000000  199523.000000  199523.000000  \n",
       "mean      197.529533       1.956180      23.174897    1740.380269  \n",
       "std      1984.163658       2.365126      24.411488     993.768156  \n",
       "min         0.000000       0.000000       0.000000      37.870000  \n",
       "25%         0.000000       0.000000       0.000000    1061.615000  \n",
       "50%         0.000000       1.000000       8.000000    1618.310000  \n",
       "75%         0.000000       4.000000      52.000000    2188.610000  \n",
       "max     99999.000000       6.000000      52.000000   18656.300000  "
      ]
     },
     "execution_count": 58,
     "metadata": {},
     "output_type": "execute_result"
    }
   ],
   "source": [
    "train.ix[:, continuous_var].describe()"
   ]
  },
  {
   "cell_type": "markdown",
   "metadata": {},
   "source": [
    "We have some extreme values that we will need to get rid of"
   ]
  },
  {
   "cell_type": "code",
   "execution_count": 59,
   "metadata": {
    "collapsed": false
   },
   "outputs": [
    {
     "data": {
      "text/plain": [
       "<matplotlib.axes._subplots.AxesSubplot at 0x19185b74860>"
      ]
     },
     "execution_count": 59,
     "metadata": {},
     "output_type": "execute_result"
    },
    {
     "data": {
      "image/png": "[encoded data removed]",
      "text/plain": [
       "<matplotlib.figure.Figure at 0x191856f48d0>"
      ]
     },
     "metadata": {},
     "output_type": "display_data"
    }
   ],
   "source": [
    "train.ix[:, [\"NOEMP\", \"AAGE\", \"WKSWORK\"]].plot.box()"
   ]
  },
  {
   "cell_type": "code",
   "execution_count": 60,
   "metadata": {
    "collapsed": false
   },
   "outputs": [
    {
     "data": {
      "text/plain": [
       "<matplotlib.axes._subplots.AxesSubplot at 0x19185c70dd8>"
      ]
     },
     "execution_count": 60,
     "metadata": {},
     "output_type": "execute_result"
    },
    {
     "data": {
      "image/png": "[encoded data removed]",
      "text/plain": [
       "<matplotlib.figure.Figure at 0x19185b7a748>"
      ]
     },
     "metadata": {},
     "output_type": "display_data"
    }
   ],
   "source": [
    "train.ix[:, [\"MAESUPWT\"]].plot.box()"
   ]
  },
  {
   "cell_type": "code",
   "execution_count": 61,
   "metadata": {
    "collapsed": false
   },
   "outputs": [
    {
     "name": "stderr",
     "output_type": "stream",
     "text": [
      "C:\\Users\\Mohamed\\Anaconda3\\lib\\site-packages\\statsmodels\\nonparametric\\kdetools.py:20: VisibleDeprecationWarning: using a non-integer number instead of an integer will result in an error in the future\n",
      "  y = X[:m/2+1] + np.r_[0,X[m/2+1:],0]*1j\n"
     ]
    },
    {
     "data": {
      "text/plain": [
       "<matplotlib.axes._subplots.AxesSubplot at 0x1918d4012b0>"
      ]
     },
     "execution_count": 61,
     "metadata": {},
     "output_type": "execute_result"
    },
    {
     "data": {
      "image/png": "[encoded data removed]",
      "text/plain": [
       "<matplotlib.figure.Figure at 0x19188e10b70>"
      ]
     },
     "metadata": {},
     "output_type": "display_data"
    }
   ],
   "source": [
    "sns.kdeplot(train[\"AAGE\"], shade=True)"
   ]
  },
  {
   "cell_type": "markdown",
   "metadata": {
    "collapsed": true
   },
   "source": [
    "Except for some, our continuous variables seem to have a very high variance that can be explained with extreme values. We will need to ignore aberrant data and standardize our continuous variables."
   ]
  },
  {
   "cell_type": "markdown",
   "metadata": {},
   "source": [
    "### Description of nominal variables"
   ]
  },
  {
   "cell_type": "markdown",
   "metadata": {},
   "source": [
    "Number of categories for each nominal variables :"
   ]
  },
  {
   "cell_type": "code",
   "execution_count": 62,
   "metadata": {
    "collapsed": false
   },
   "outputs": [
    {
     "data": {
      "text/plain": [
       "<matplotlib.axes._subplots.AxesSubplot at 0x19188e027f0>"
      ]
     },
     "execution_count": 62,
     "metadata": {},
     "output_type": "execute_result"
    },
    {
     "data": {
      "image/png": "[encoded data removed]",
      "text/plain": [
       "<matplotlib.figure.Figure at 0x191874afba8>"
      ]
     },
     "metadata": {},
     "output_type": "display_data"
    }
   ],
   "source": [
    "train.ix[:, [col for col in nominal_var if col!=\"MAESUPWT\"]].apply(pd.Series.nunique).plot(kind=\"bar\", figsize=(15,10))"
   ]
  },
  {
   "cell_type": "code",
   "execution_count": 63,
   "metadata": {
    "collapsed": false
   },
   "outputs": [
    {
     "data": {
      "text/plain": [
       "<matplotlib.axes._subplots.AxesSubplot at 0x19186534b00>"
      ]
     },
     "execution_count": 63,
     "metadata": {},
     "output_type": "execute_result"
    },
    {
     "data": {
      "image/png": "[encoded data removed]",
      "text/plain": [
       "<matplotlib.figure.Figure at 0x19186541438>"
      ]
     },
     "metadata": {},
     "output_type": "display_data"
    }
   ],
   "source": [
    "train[\"ACLSWKR\"].value_counts().plot(kind='bar')"
   ]
  },
  {
   "cell_type": "markdown",
   "metadata": {},
   "source": [
    "Our dataset has tons of \"Not in universe\" values but doesn't have any missing data. Test dataset also have \"Not in Universe\" values."
   ]
  },
  {
   "cell_type": "markdown",
   "metadata": {},
   "source": [
    "** Insights of Salary variable **"
   ]
  },
  {
   "cell_type": "code",
   "execution_count": 64,
   "metadata": {
    "collapsed": true
   },
   "outputs": [],
   "source": [
    "counts_salary = train[\"SALARY\"].value_counts()"
   ]
  },
  {
   "cell_type": "code",
   "execution_count": 65,
   "metadata": {
    "collapsed": false
   },
   "outputs": [
    {
     "data": {
      "text/plain": [
       "<matplotlib.axes._subplots.AxesSubplot at 0x19185c87a58>"
      ]
     },
     "execution_count": 65,
     "metadata": {},
     "output_type": "execute_result"
    },
    {
     "data": {
      "image/png": "[encoded data removed]",
      "text/plain": [
       "<matplotlib.figure.Figure at 0x1918678c9b0>"
      ]
     },
     "metadata": {},
     "output_type": "display_data"
    }
   ],
   "source": [
    "counts_salary.plot(kind='bar')"
   ]
  },
  {
   "cell_type": "code",
   "execution_count": 66,
   "metadata": {
    "collapsed": false
   },
   "outputs": [
    {
     "name": "stdout",
     "output_type": "stream",
     "text": [
      "Percentage of > 50k salary : 6.21% \n"
     ]
    }
   ],
   "source": [
    "print(\"Percentage of > 50k salary : {:.2f}% \".format(counts_salary[1]*100 / (counts_salary[0] + counts_salary[1])))"
   ]
  },
  {
   "cell_type": "markdown",
   "metadata": {},
   "source": [
    "The dataset is strongly imbalanced, we need to keep that in mind and check the confusion matrix when we will start modelization. In that case of imbalanced dataset, the best thing to do is not using an accuracy scorer. AUC or f1-score take this information into account. However, since the challenge is \"Kaggle-like\" and since the goal is to have a better accuracy, we will use the accuracy scorer. We could also change the loss function to add a \"weighted class\" parameter."
   ]
  },
  {
   "cell_type": "markdown",
   "metadata": {},
   "source": [
    "# Some correlations and data relationships "
   ]
  },
  {
   "cell_type": "markdown",
   "metadata": {},
   "source": [
    "Let's first binarize our Salary variable for it to be easier to manipulate :"
   ]
  },
  {
   "cell_type": "code",
   "execution_count": 67,
   "metadata": {
    "collapsed": true
   },
   "outputs": [],
   "source": [
    "train[\"SALARY\"] = train[\"SALARY\"].map(lambda x : 0 if x==' - 50000.' else 1)\n",
    "test[\"SALARY\"] = test[\"SALARY\"].map(lambda x : 0 if x==' - 50000.' else 1)"
   ]
  },
  {
   "cell_type": "markdown",
   "metadata": {},
   "source": [
    "### Age differences "
   ]
  },
  {
   "cell_type": "code",
   "execution_count": 68,
   "metadata": {
    "collapsed": false
   },
   "outputs": [
    {
     "data": {
      "text/plain": [
       "<matplotlib.text.Text at 0x191867d94e0>"
      ]
     },
     "execution_count": 68,
     "metadata": {},
     "output_type": "execute_result"
    },
    {
     "data": {
      "image/png": "[encoded data removed]",
      "text/plain": [
       "<matplotlib.figure.Figure at 0x19186796da0>"
      ]
     },
     "metadata": {},
     "output_type": "display_data"
    }
   ],
   "source": [
    "age_vs_salary = train.groupby(\"AAGE\")[\"SALARY\"].mean()\n",
    "age_vs_salary = age_vs_salary.reset_index()\n",
    "age_vs_salary.iloc[:,1]*=100\n",
    "plt.plot(age_vs_salary[\"SALARY\"])\n",
    "plt.xlabel(\"Age\")\n",
    "plt.ylabel(\"% of >50k salary\")"
   ]
  },
  {
   "cell_type": "markdown",
   "metadata": {},
   "source": [
    "There seems to have a correlation between the age and the salary. People around 30-60 years old tend to earn way more money than others."
   ]
  },
  {
   "cell_type": "markdown",
   "metadata": {},
   "source": [
    "### Sex differences "
   ]
  },
  {
   "cell_type": "code",
   "execution_count": 69,
   "metadata": {
    "collapsed": false
   },
   "outputs": [
    {
     "data": {
      "text/plain": [
       "(array([0, 1]), <a list of 2 Text xticklabel objects>)"
      ]
     },
     "execution_count": 69,
     "metadata": {},
     "output_type": "execute_result"
    },
    {
     "data": {
      "image/png": "[encoded data removed]",
      "text/plain": [
       "<matplotlib.figure.Figure at 0x1918682da58>"
      ]
     },
     "metadata": {},
     "output_type": "display_data"
    }
   ],
   "source": [
    "train.groupby(\"ASEX\")[\"SALARY\"].mean().plot(kind=\"bar\")\n",
    "plt.title(\"Male vs Female probability of salary > 50k\")\n",
    "plt.xticks(rotation=0)"
   ]
  },
  {
   "cell_type": "markdown",
   "metadata": {},
   "source": [
    "Male tend to have a better salary than women (almost 10% of men have a salary > 50k for only 2.5% for women)"
   ]
  },
  {
   "cell_type": "markdown",
   "metadata": {},
   "source": [
    "### Race differences"
   ]
  },
  {
   "cell_type": "code",
   "execution_count": 70,
   "metadata": {
    "collapsed": false
   },
   "outputs": [
    {
     "data": {
      "text/plain": [
       "(array([0, 1, 2, 3, 4]), <a list of 5 Text xticklabel objects>)"
      ]
     },
     "execution_count": 70,
     "metadata": {},
     "output_type": "execute_result"
    },
    {
     "data": {
      "image/png": "[encoded data removed]",
      "text/plain": [
       "<matplotlib.figure.Figure at 0x1918688fc18>"
      ]
     },
     "metadata": {},
     "output_type": "display_data"
    }
   ],
   "source": [
    "train.groupby(\"ARACE\")[\"SALARY\"].mean().plot(kind=\"bar\")\n",
    "plt.title(\"Race probability of salary > 50k\")\n",
    "plt.xticks(rotation=30)"
   ]
  },
  {
   "cell_type": "markdown",
   "metadata": {},
   "source": [
    "### Continuous variables correlations "
   ]
  },
  {
   "cell_type": "code",
   "execution_count": 362,
   "metadata": {
    "collapsed": true
   },
   "outputs": [],
   "source": [
    "origin_train[\"SALARY\"] = origin_train[\"SALARY\"].map(lambda x : 0 if x==' - 50000.' else 1)"
   ]
  },
  {
   "cell_type": "code",
   "execution_count": 363,
   "metadata": {
    "collapsed": false
   },
   "outputs": [],
   "source": [
    "corr_train = origin_train.corr()"
   ]
  },
  {
   "cell_type": "code",
   "execution_count": 364,
   "metadata": {
    "collapsed": false
   },
   "outputs": [
    {
     "data": {
      "image/png": "[encoded data removed]",
      "text/plain": [
       "<matplotlib.figure.Figure at 0x191873ccdd8>"
      ]
     },
     "metadata": {},
     "output_type": "display_data"
    }
   ],
   "source": [
    "# Set up the matplotlib figure\n",
    "f, ax = plt.subplots(figsize=(12, 9))\n",
    "\n",
    "# Draw the heatmap using seaborn\n",
    "sns.heatmap(corr_train, vmax=1, square=True)\n",
    "plt.title(\"HeatMap of the Pearson correlations\")\n",
    "plt.show()"
   ]
  },
  {
   "cell_type": "markdown",
   "metadata": {},
   "source": [
    "None of the variables seem strongly correlated. \n",
    "\n",
    "We won't try to calculate the correlations of the binary variables with the Salary variable as it will take too much time to calculate."
   ]
  },
  {
   "cell_type": "markdown",
   "metadata": {},
   "source": [
    "# Cleaning & Preprocessing"
   ]
  },
  {
   "cell_type": "markdown",
   "metadata": {},
   "source": [
    "We get rid of extreme values that we managed to detect in the insights :"
   ]
  },
  {
   "cell_type": "code",
   "execution_count": 71,
   "metadata": {
    "collapsed": true
   },
   "outputs": [],
   "source": [
    "train = train[train[\"AHRSPAY\"]!=9999]\n",
    "train = train[train[\"CAPGAIN\"]!=99999]\n",
    "train = train[train[\"DIVVAL\"]!=99999]"
   ]
  },
  {
   "cell_type": "markdown",
   "metadata": {},
   "source": [
    "We standardScale our continuous variables. Fitting on the train and transforming the test dataset.  We however note that sclaing the data have no effect for linear models and tree ensemble methods."
   ]
  },
  {
   "cell_type": "code",
   "execution_count": 72,
   "metadata": {
    "collapsed": false
   },
   "outputs": [],
   "source": [
    "ss = preprocessing.StandardScaler()\n",
    "train.ix[:, [col for col in continuous_var if col!='SALARY']] = ss.fit_transform(train.ix[:, [col for col in continuous_var if col!='SALARY']])\n",
    "test.ix[:, [col for col in continuous_var if col!='SALARY']] = ss.transform(test.ix[:, [col for col in continuous_var if col!='SALARY']])"
   ]
  },
  {
   "cell_type": "markdown",
   "metadata": {},
   "source": [
    "Let's now create binary variables out of all our nominal variables : "
   ]
  },
  {
   "cell_type": "code",
   "execution_count": 73,
   "metadata": {
    "collapsed": false
   },
   "outputs": [],
   "source": [
    "for var in nominal_var:\n",
    "    dummies = pd.get_dummies(train[var], prefix=var)\n",
    "    train = pd.concat([train, dummies], axis=1)\n",
    "    train.drop(var, axis=1, inplace=True)\n",
    "\n",
    "    dummies = pd.get_dummies(test[var], prefix=var)\n",
    "    test = pd.concat([test, dummies], axis=1)\n",
    "    test.drop(var, axis=1, inplace=True)"
   ]
  },
  {
   "cell_type": "markdown",
   "metadata": {},
   "source": [
    "Let's check the dimensions :"
   ]
  },
  {
   "cell_type": "code",
   "execution_count": 74,
   "metadata": {
    "collapsed": false
   },
   "outputs": [
    {
     "name": "stdout",
     "output_type": "stream",
     "text": [
      "(199114, 512) (99762, 511)\n"
     ]
    }
   ],
   "source": [
    "print(train.shape, test.shape)"
   ]
  },
  {
   "cell_type": "markdown",
   "metadata": {},
   "source": [
    "One variable is contained in the train dataset but isn't in the test one, we get rid of it : "
   ]
  },
  {
   "cell_type": "code",
   "execution_count": 75,
   "metadata": {
    "collapsed": false
   },
   "outputs": [
    {
     "name": "stdout",
     "output_type": "stream",
     "text": [
      "variable :  HHDFMX_ Grandchild <18 ever marr not in subfamily\n"
     ]
    }
   ],
   "source": [
    "for col in train.columns:\n",
    "    if col not in list(test.columns):\n",
    "        print(\"variable : \", col)\n",
    "        train.drop(col, axis=1, inplace=True)"
   ]
  },
  {
   "cell_type": "markdown",
   "metadata": {},
   "source": [
    "Let's change our variable names so we don't have any space or special character in them : "
   ]
  },
  {
   "cell_type": "code",
   "execution_count": 76,
   "metadata": {
    "collapsed": false
   },
   "outputs": [],
   "source": [
    "for var in train.columns:\n",
    "    train.rename(columns={var:var.replace(\" \", \"_\").replace(\",\", \"\").replace(\"[\", \"\").replace(\"]\", \"\").replace(\"<\", \"\")}, inplace=True)\n",
    "    test.rename(columns={var:var.replace(\" \", \"_\").replace(\",\", \"\").replace(\"[\", \"\").replace(\"]\", \"\").replace(\"<\", \"\")}, inplace=True)"
   ]
  },
  {
   "cell_type": "markdown",
   "metadata": {},
   "source": [
    "We drop already binary variables"
   ]
  },
  {
   "cell_type": "code",
   "execution_count": 78,
   "metadata": {
    "collapsed": true
   },
   "outputs": [],
   "source": [
    "train.drop([\"ASEX__Female\", \"YEAR_94\"], axis=1, inplace=True)\n",
    "test.drop([\"ASEX__Female\", \"YEAR_94\"], axis=1, inplace=True)"
   ]
  },
  {
   "cell_type": "code",
   "execution_count": 235,
   "metadata": {
    "collapsed": false
   },
   "outputs": [
    {
     "data": {
      "text/html": [
       "<div>\n",
       "<table border=\"1\" class=\"dataframe\">\n",
       "  <thead>\n",
       "    <tr style=\"text-align: right;\">\n",
       "      <th></th>\n",
       "      <th>AAGE</th>\n",
       "      <th>AHRSPAY</th>\n",
       "      <th>CAPGAIN</th>\n",
       "      <th>CAPLOSS</th>\n",
       "      <th>DIVVAL</th>\n",
       "      <th>NOEMP</th>\n",
       "      <th>WKSWORK</th>\n",
       "      <th>MAESUPWT</th>\n",
       "      <th>SALARY</th>\n",
       "    </tr>\n",
       "  </thead>\n",
       "  <tbody>\n",
       "    <tr>\n",
       "      <th>0</th>\n",
       "      <td>1.726339</td>\n",
       "      <td>-0.202281</td>\n",
       "      <td>-0.147083</td>\n",
       "      <td>-0.137324</td>\n",
       "      <td>-0.112903</td>\n",
       "      <td>-0.826059</td>\n",
       "      <td>-0.947654</td>\n",
       "      <td>-0.040487</td>\n",
       "      <td>0</td>\n",
       "    </tr>\n",
       "    <tr>\n",
       "      <th>1</th>\n",
       "      <td>1.054306</td>\n",
       "      <td>-0.202281</td>\n",
       "      <td>-0.147083</td>\n",
       "      <td>-0.137324</td>\n",
       "      <td>-0.112903</td>\n",
       "      <td>-0.403195</td>\n",
       "      <td>1.183098</td>\n",
       "      <td>-0.690980</td>\n",
       "      <td>0</td>\n",
       "    </tr>\n",
       "    <tr>\n",
       "      <th>2</th>\n",
       "      <td>-0.737782</td>\n",
       "      <td>-0.202281</td>\n",
       "      <td>-0.147083</td>\n",
       "      <td>-0.137324</td>\n",
       "      <td>-0.112903</td>\n",
       "      <td>-0.826059</td>\n",
       "      <td>-0.947654</td>\n",
       "      <td>-0.752956</td>\n",
       "      <td>0</td>\n",
       "    </tr>\n",
       "    <tr>\n",
       "      <th>3</th>\n",
       "      <td>-1.141002</td>\n",
       "      <td>-0.202281</td>\n",
       "      <td>-0.147083</td>\n",
       "      <td>-0.137324</td>\n",
       "      <td>-0.112903</td>\n",
       "      <td>-0.826059</td>\n",
       "      <td>-0.947654</td>\n",
       "      <td>0.017918</td>\n",
       "      <td>0</td>\n",
       "    </tr>\n",
       "    <tr>\n",
       "      <th>4</th>\n",
       "      <td>-1.096200</td>\n",
       "      <td>-0.202281</td>\n",
       "      <td>-0.147083</td>\n",
       "      <td>-0.137324</td>\n",
       "      <td>-0.112903</td>\n",
       "      <td>-0.826059</td>\n",
       "      <td>-0.947654</td>\n",
       "      <td>-0.675274</td>\n",
       "      <td>0</td>\n",
       "    </tr>\n",
       "  </tbody>\n",
       "</table>\n",
       "</div>"
      ],
      "text/plain": [
       "       AAGE   AHRSPAY   CAPGAIN   CAPLOSS    DIVVAL     NOEMP   WKSWORK  \\\n",
       "0  1.726339 -0.202281 -0.147083 -0.137324 -0.112903 -0.826059 -0.947654   \n",
       "1  1.054306 -0.202281 -0.147083 -0.137324 -0.112903 -0.403195  1.183098   \n",
       "2 -0.737782 -0.202281 -0.147083 -0.137324 -0.112903 -0.826059 -0.947654   \n",
       "3 -1.141002 -0.202281 -0.147083 -0.137324 -0.112903 -0.826059 -0.947654   \n",
       "4 -1.096200 -0.202281 -0.147083 -0.137324 -0.112903 -0.826059 -0.947654   \n",
       "\n",
       "   MAESUPWT  SALARY  \n",
       "0 -0.040487       0  \n",
       "1 -0.690980       0  \n",
       "2 -0.752956       0  \n",
       "3  0.017918       0  \n",
       "4 -0.675274       0  "
      ]
     },
     "execution_count": 235,
     "metadata": {},
     "output_type": "execute_result"
    }
   ],
   "source": [
    "train.ix[:, continuous_var].head()"
   ]
  },
  {
   "cell_type": "markdown",
   "metadata": {},
   "source": [
    "We create X and Y : "
   ]
  },
  {
   "cell_type": "code",
   "execution_count": 79,
   "metadata": {
    "collapsed": true
   },
   "outputs": [],
   "source": [
    "train_X = train.drop(\"SALARY\", axis=1)\n",
    "train_Y = train[\"SALARY\"]\n",
    "test_X = test.drop(\"SALARY\", axis=1)\n",
    "test_Y = test[\"SALARY\"]"
   ]
  },
  {
   "cell_type": "markdown",
   "metadata": {},
   "source": [
    "Let's double check that we have the same number of variables : "
   ]
  },
  {
   "cell_type": "code",
   "execution_count": 80,
   "metadata": {
    "collapsed": false
   },
   "outputs": [
    {
     "name": "stdout",
     "output_type": "stream",
     "text": [
      "(199114, 508) (99762, 508)\n"
     ]
    }
   ],
   "source": [
    "print(train_X.shape, test_X.shape)"
   ]
  },
  {
   "cell_type": "markdown",
   "metadata": {},
   "source": [
    "# Linear Models"
   ]
  },
  {
   "cell_type": "markdown",
   "metadata": {},
   "source": [
    "### Logistic Regression"
   ]
  },
  {
   "cell_type": "markdown",
   "metadata": {},
   "source": [
    "Let's first try out a classification with our raw data"
   ]
  },
  {
   "cell_type": "code",
   "execution_count": 96,
   "metadata": {
    "collapsed": false
   },
   "outputs": [
    {
     "name": "stdout",
     "output_type": "stream",
     "text": [
      "0.953900282673\n",
      "Wall time: 16.6 s\n"
     ]
    }
   ],
   "source": [
    "%%time\n",
    "#X_train, X_val, y_train, y_val = train_test_split(train_X, train_Y, test_size=0.33, random_state=42)\n",
    "clf = LogisticRegression()\n",
    "clf.fit(train_X, train_Y)\n",
    "print(clf.score(test_X, test_Y))"
   ]
  },
  {
   "cell_type": "markdown",
   "metadata": {},
   "source": [
    "We will perform a feature selection using a cross validated recursive feature elimination  based on the values of the coefficients of the logistic regression. We use a step of 10 features so it won't take too much time to run :"
   ]
  },
  {
   "cell_type": "code",
   "execution_count": 105,
   "metadata": {
    "collapsed": false
   },
   "outputs": [
    {
     "name": "stdout",
     "output_type": "stream",
     "text": [
      "Wall time: 9min 22s\n"
     ]
    }
   ],
   "source": [
    "%%time\n",
    "# create the RFE model and select 3 attributes\n",
    "rfe = RFECV(clf, step=10, cv=3, n_jobs=-1)\n",
    "rfe = rfe.fit(train_X, train_Y)"
   ]
  },
  {
   "cell_type": "markdown",
   "metadata": {},
   "source": [
    "Nomber of removed features : 90"
   ]
  },
  {
   "cell_type": "code",
   "execution_count": 107,
   "metadata": {
    "collapsed": false
   },
   "outputs": [
    {
     "name": "stdout",
     "output_type": "stream",
     "text": [
      "418\n"
     ]
    }
   ],
   "source": [
    "print(np.sum(rfe.support_))"
   ]
  },
  {
   "cell_type": "markdown",
   "metadata": {},
   "source": [
    "Let's rerun a Logistic Regression on our new table. "
   ]
  },
  {
   "cell_type": "code",
   "execution_count": 106,
   "metadata": {
    "collapsed": false
   },
   "outputs": [
    {
     "name": "stdout",
     "output_type": "stream",
     "text": [
      "0.953860187246\n"
     ]
    }
   ],
   "source": [
    "clf = LogisticRegression()\n",
    "clf.fit(train_X.iloc[:, rfe.support_], train_Y)\n",
    "print(clf.score(test_X.iloc[:, rfe.support_], test_Y))\n"
   ]
  },
  {
   "cell_type": "code",
   "execution_count": 111,
   "metadata": {
    "collapsed": false
   },
   "outputs": [
    {
     "name": "stdout",
     "output_type": "stream",
     "text": [
      "             precision    recall  f1-score   support\n",
      "\n",
      "          0       0.96      0.99      0.98     93576\n",
      "          1       0.73      0.40      0.52      6186\n",
      "\n",
      "avg / total       0.95      0.95      0.95     99762\n",
      "\n"
     ]
    }
   ],
   "source": [
    "print(classification_report(test_Y, clf.predict(test_X.iloc[:, rfe.support_])))"
   ]
  },
  {
   "cell_type": "code",
   "execution_count": 190,
   "metadata": {
    "collapsed": false
   },
   "outputs": [
    {
     "name": "stdout",
     "output_type": "stream",
     "text": [
      "Normalized confusion matrix\n",
      "[[ 0.96  0.27]\n",
      " [ 0.04  0.73]]\n"
     ]
    },
    {
     "data": {
      "image/png": "[encoded data removed]",
      "text/plain": [
       "<matplotlib.figure.Figure at 0x1d500aa4c88>"
      ]
     },
     "metadata": {},
     "output_type": "display_data"
    }
   ],
   "source": [
    "plot_confusion_matrix(confusion_matrix(test_Y, clf.predict(test_X)), classes=[\"0\", \"1\"], normalize=True, title='Confusion matrix', cmap=plt.cm.seismic)"
   ]
  },
  {
   "cell_type": "markdown",
   "metadata": {},
   "source": [
    "The model seems good with predicting salaries < 50k but kind of bad for salaries > 50k\n",
    "This is due to the imbalanced dataset... tree-based models usually have good results with imbalanced datasets. Let's try that."
   ]
  },
  {
   "cell_type": "markdown",
   "metadata": {},
   "source": [
    "# Trees"
   ]
  },
  {
   "cell_type": "markdown",
   "metadata": {},
   "source": [
    "### Random Forest"
   ]
  },
  {
   "cell_type": "markdown",
   "metadata": {},
   "source": [
    "Let's first find quickly the best hyperparameters for a Random Forest. We will then check the feature importances of the model to perform a feature selection. We use RandomizedSearchCV for it to go faster.  "
   ]
  },
  {
   "cell_type": "code",
   "execution_count": 140,
   "metadata": {
    "collapsed": false
   },
   "outputs": [
    {
     "name": "stdout",
     "output_type": "stream",
     "text": [
      "Wall time: 5min 49s\n"
     ]
    }
   ],
   "source": [
    "%%time\n",
    "clf = RandomForestClassifier()\n",
    "\n",
    "param_grid = {'n_estimators': [30, 35, 40],\n",
    "             'max_depth' : [40, 50, 60, 70],\n",
    "              \"criterion\" : [\"gini\", \"entropy\"],\n",
    "              \"min_samples_leaf\" : [2, 3]         \n",
    "             }\n",
    "\n",
    "rs = RandomizedSearchCV(clf, param_grid, cv=4, n_jobs=-1)\n",
    "rs.fit(train_X, train_Y)"
   ]
  },
  {
   "cell_type": "markdown",
   "metadata": {},
   "source": [
    "Let's print the best estimator we found : "
   ]
  },
  {
   "cell_type": "code",
   "execution_count": 141,
   "metadata": {
    "collapsed": false
   },
   "outputs": [
    {
     "name": "stdout",
     "output_type": "stream",
     "text": [
      "RandomForestClassifier(bootstrap=True, class_weight=None, criterion='entropy',\n",
      "            max_depth=70, max_features='auto', max_leaf_nodes=None,\n",
      "            min_impurity_split=1e-07, min_samples_leaf=2,\n",
      "            min_samples_split=2, min_weight_fraction_leaf=0.0,\n",
      "            n_estimators=35, n_jobs=1, oob_score=False, random_state=None,\n",
      "            verbose=0, warm_start=False)\n"
     ]
    }
   ],
   "source": [
    "print(rs.best_estimator_)"
   ]
  },
  {
   "cell_type": "markdown",
   "metadata": {},
   "source": [
    "Now, we train our model an print the accuracy on the test set :"
   ]
  },
  {
   "cell_type": "code",
   "execution_count": 286,
   "metadata": {
    "collapsed": false
   },
   "outputs": [
    {
     "name": "stdout",
     "output_type": "stream",
     "text": [
      "0.954010545097\n"
     ]
    }
   ],
   "source": [
    "clf = RandomForestClassifier(bootstrap=True, class_weight=None, criterion='entropy',\n",
    "            max_depth=70, max_features='auto', max_leaf_nodes=None,\n",
    "            min_impurity_split=1e-07, min_samples_leaf=2,\n",
    "            min_samples_split=2, min_weight_fraction_leaf=0.0,\n",
    "            n_estimators=35, n_jobs=1, oob_score=False, random_state=None,\n",
    "            verbose=0, warm_start=False)\n",
    "\n",
    "clf.fit(train_X, train_Y)\n",
    "feat_importance = clf.feature_importances_\n",
    "\n",
    "print(clf.score(test_X, test_Y))"
   ]
  },
  {
   "cell_type": "markdown",
   "metadata": {},
   "source": [
    "We use SelectFromModel to perform a feature selection. We use the basic threshold of 1e-5 to select the most significatives variables."
   ]
  },
  {
   "cell_type": "code",
   "execution_count": 287,
   "metadata": {
    "collapsed": false
   },
   "outputs": [],
   "source": [
    "sfm = SelectFromModel(estimator=clf, prefit=True)\n",
    "temp_tr = sfm.transform(train_X)\n",
    "temp_te = sfm.transform(test_X)"
   ]
  },
  {
   "cell_type": "markdown",
   "metadata": {},
   "source": [
    "New shape of our data : "
   ]
  },
  {
   "cell_type": "code",
   "execution_count": 288,
   "metadata": {
    "collapsed": false
   },
   "outputs": [
    {
     "data": {
      "text/plain": [
       "(199114, 83)"
      ]
     },
     "execution_count": 288,
     "metadata": {},
     "output_type": "execute_result"
    }
   ],
   "source": [
    "temp_tr.shape"
   ]
  },
  {
   "cell_type": "code",
   "execution_count": 291,
   "metadata": {
    "collapsed": false
   },
   "outputs": [],
   "source": [
    "support = sfm.get_support()"
   ]
  },
  {
   "cell_type": "code",
   "execution_count": 184,
   "metadata": {
    "collapsed": false,
    "scrolled": true
   },
   "outputs": [
    {
     "data": {
      "text/plain": [
       "0.95527355105150258"
      ]
     },
     "execution_count": 184,
     "metadata": {},
     "output_type": "execute_result"
    }
   ],
   "source": [
    "clf.fit(temp_tr, train_Y)\n",
    "clf.score(temp_te, test_Y)"
   ]
  },
  {
   "cell_type": "markdown",
   "metadata": {},
   "source": [
    "The feature selection performed well, the accuracy seems higher."
   ]
  },
  {
   "cell_type": "code",
   "execution_count": 185,
   "metadata": {
    "collapsed": false
   },
   "outputs": [
    {
     "name": "stdout",
     "output_type": "stream",
     "text": [
      "Normalized confusion matrix\n",
      "[[ 0.96  0.23]\n",
      " [ 0.04  0.77]]\n"
     ]
    },
    {
     "data": {
      "image/png": "[encoded data removed]",
      "text/plain": [
       "<matplotlib.figure.Figure at 0x1918105b710>"
      ]
     },
     "metadata": {},
     "output_type": "display_data"
    }
   ],
   "source": [
    "plot_confusion_matrix(confusion_matrix(test_Y, clf.predict(temp_te)), classes=[\"0\", \"1\"], normalize=True, title='Confusion matrix', cmap=plt.cm.seismic)"
   ]
  },
  {
   "cell_type": "markdown",
   "metadata": {},
   "source": [
    "We still have a bad estimator for 1 target."
   ]
  },
  {
   "cell_type": "markdown",
   "metadata": {},
   "source": [
    "### Extreme Gradient Boosting"
   ]
  },
  {
   "cell_type": "markdown",
   "metadata": {},
   "source": [
    "We use Extreme Gradient Boosting better than Gradient Boosting so we can add regularization parameters and run our models on multiple jobs (I have 4 Cores so it will be way more faster)"
   ]
  },
  {
   "cell_type": "markdown",
   "metadata": {},
   "source": [
    "We use a cross validated Grid Search to tune the hyper parameters and find the best estimator."
   ]
  },
  {
   "cell_type": "code",
   "execution_count": 365,
   "metadata": {
    "collapsed": false
   },
   "outputs": [
    {
     "name": "stdout",
     "output_type": "stream",
     "text": [
      "Wall time: 1h 43min 56s\n"
     ]
    }
   ],
   "source": [
    "%%time\n",
    "#We use the XGBClassifier that allows us to have a sklearn-like interface\n",
    "model = XGBClassifier(silent=False)\n",
    "\n",
    "param_grid = {'n_estimators': [160, 165, 170], #140, 150, 160: 160\n",
    "              'max_depth' : [60, 70, 80], #70\n",
    "              \"learning_rate\" : [0.03, 0.04, 0.05, 0.07], #0.05, 0.1, 0.2 : 0.05\n",
    "              'min_child_weight' : [3], #4,5,6 :4\n",
    "              'reg_alpha' : [7, 8, 9], #8, 10, 12 : 8\n",
    "              'reg_lambda' : [0.6, 0.7, 0.8] #0.7\n",
    "             }\n",
    "\n",
    "rs = RandomizedSearchCV(model, param_grid, cv=3, n_jobs=-1)\n",
    "\n",
    "rs.fit(temp_tr, train_Y)"
   ]
  },
  {
   "cell_type": "markdown",
   "metadata": {},
   "source": [
    "Best estimator :"
   ]
  },
  {
   "cell_type": "code",
   "execution_count": 366,
   "metadata": {
    "collapsed": false
   },
   "outputs": [
    {
     "data": {
      "text/plain": [
       "XGBClassifier(base_score=0.5, colsample_bylevel=1, colsample_bytree=1,\n",
       "       gamma=0, learning_rate=0.05, max_delta_step=0, max_depth=80,\n",
       "       min_child_weight=3, missing=None, n_estimators=160, nthread=-1,\n",
       "       objective='binary:logistic', reg_alpha=8, reg_lambda=0.7,\n",
       "       scale_pos_weight=1, seed=0, silent=False, subsample=1)"
      ]
     },
     "execution_count": 366,
     "metadata": {},
     "output_type": "execute_result"
    }
   ],
   "source": [
    "rs.best_estimator_"
   ]
  },
  {
   "cell_type": "code",
   "execution_count": 367,
   "metadata": {
    "collapsed": false
   },
   "outputs": [
    {
     "data": {
      "text/plain": [
       "XGBClassifier(base_score=0.5, colsample_bylevel=1, colsample_bytree=1,\n",
       "       gamma=0, learning_rate=0.05, max_delta_step=0, max_depth=80,\n",
       "       min_child_weight=3, missing=None, n_estimators=160, nthread=-1,\n",
       "       objective='binary:logistic', reg_alpha=8, reg_lambda=0.7,\n",
       "       scale_pos_weight=1, seed=0, silent=False, subsample=1)"
      ]
     },
     "execution_count": 367,
     "metadata": {},
     "output_type": "execute_result"
    }
   ],
   "source": [
    "clf = XGBClassifier(base_score=0.5, colsample_bylevel=1, colsample_bytree=1,\n",
    "       gamma=0, learning_rate=0.05, max_delta_step=0, max_depth=80,\n",
    "       min_child_weight=3, missing=None, n_estimators=160, nthread=-1,\n",
    "       objective='binary:logistic', reg_alpha=8, reg_lambda=0.7,\n",
    "       scale_pos_weight=1, seed=0, silent=False, subsample=1)\n",
    "\n",
    "clf.fit(temp_tr, train_Y)"
   ]
  },
  {
   "cell_type": "markdown",
   "metadata": {},
   "source": [
    "New score on our test data : "
   ]
  },
  {
   "cell_type": "code",
   "execution_count": 368,
   "metadata": {
    "collapsed": false
   },
   "outputs": [
    {
     "data": {
      "text/plain": [
       "0.95747879954291215"
      ]
     },
     "execution_count": 368,
     "metadata": {},
     "output_type": "execute_result"
    }
   ],
   "source": [
    "clf.score(temp_te, test_Y)"
   ]
  },
  {
   "cell_type": "code",
   "execution_count": 369,
   "metadata": {
    "collapsed": false
   },
   "outputs": [
    {
     "name": "stdout",
     "output_type": "stream",
     "text": [
      "Normalized confusion matrix\n",
      "[[ 0.97  0.25]\n",
      " [ 0.03  0.75]]\n"
     ]
    },
    {
     "data": {
      "image/png": "[encoded data removed]",
      "text/plain": [
       "<matplotlib.figure.Figure at 0x19183f59860>"
      ]
     },
     "metadata": {},
     "output_type": "display_data"
    }
   ],
   "source": [
    "plot_confusion_matrix(confusion_matrix(test_Y, clf.predict(temp_te)), classes=[\"0\", \"1\"], normalize=True, title='Confusion matrix', cmap=plt.cm.seismic)"
   ]
  },
  {
   "cell_type": "markdown",
   "metadata": {},
   "source": [
    "# Most significative variables "
   ]
  },
  {
   "cell_type": "code",
   "execution_count": 320,
   "metadata": {
    "collapsed": false
   },
   "outputs": [],
   "source": [
    "df_importance = pd.DataFrame(index=list(train.ix[:, support].columns), data=clf.feature_importances_, columns=[ \"importance\"])"
   ]
  },
  {
   "cell_type": "markdown",
   "metadata": {},
   "source": [
    "** top 20 features by importance **"
   ]
  },
  {
   "cell_type": "code",
   "execution_count": 328,
   "metadata": {
    "collapsed": false
   },
   "outputs": [
    {
     "data": {
      "text/html": [
       "<div>\n",
       "<table border=\"1\" class=\"dataframe\">\n",
       "  <thead>\n",
       "    <tr style=\"text-align: right;\">\n",
       "      <th></th>\n",
       "      <th>importance</th>\n",
       "    </tr>\n",
       "  </thead>\n",
       "  <tbody>\n",
       "    <tr>\n",
       "      <th>MAESUPWT</th>\n",
       "      <td>0.160977</td>\n",
       "    </tr>\n",
       "    <tr>\n",
       "      <th>AAGE</th>\n",
       "      <td>0.119383</td>\n",
       "    </tr>\n",
       "    <tr>\n",
       "      <th>DIVVAL</th>\n",
       "      <td>0.068358</td>\n",
       "    </tr>\n",
       "    <tr>\n",
       "      <th>CAPGAIN</th>\n",
       "      <td>0.039173</td>\n",
       "    </tr>\n",
       "    <tr>\n",
       "      <th>CAPLOSS</th>\n",
       "      <td>0.034332</td>\n",
       "    </tr>\n",
       "    <tr>\n",
       "      <th>NOEMP</th>\n",
       "      <td>0.033164</td>\n",
       "    </tr>\n",
       "    <tr>\n",
       "      <th>WKSWORK</th>\n",
       "      <td>0.027488</td>\n",
       "    </tr>\n",
       "    <tr>\n",
       "      <th>AHRSPAY</th>\n",
       "      <td>0.022967</td>\n",
       "    </tr>\n",
       "    <tr>\n",
       "      <th>AHGA__Less_than_1st_grade</th>\n",
       "      <td>0.018502</td>\n",
       "    </tr>\n",
       "    <tr>\n",
       "      <th>AMJIND__Entertainment</th>\n",
       "      <td>0.015260</td>\n",
       "    </tr>\n",
       "    <tr>\n",
       "      <th>AMJIND__Hospital_services</th>\n",
       "      <td>0.014662</td>\n",
       "    </tr>\n",
       "    <tr>\n",
       "      <th>AMJOCC__Protective_services</th>\n",
       "      <td>0.014120</td>\n",
       "    </tr>\n",
       "    <tr>\n",
       "      <th>AHGA__Associates_degree-occup_/vocational</th>\n",
       "      <td>0.013911</td>\n",
       "    </tr>\n",
       "    <tr>\n",
       "      <th>AHGA__Prof_school_degree_(MD_DDS_DVM_LLB_JD)</th>\n",
       "      <td>0.013410</td>\n",
       "    </tr>\n",
       "    <tr>\n",
       "      <th>ADTOCC_1</th>\n",
       "      <td>0.013062</td>\n",
       "    </tr>\n",
       "    <tr>\n",
       "      <th>AMJOCC__Private_household_services</th>\n",
       "      <td>0.012756</td>\n",
       "    </tr>\n",
       "    <tr>\n",
       "      <th>ACLSWKR__Private</th>\n",
       "      <td>0.012520</td>\n",
       "    </tr>\n",
       "    <tr>\n",
       "      <th>AMJOCC__Other_service</th>\n",
       "      <td>0.012186</td>\n",
       "    </tr>\n",
       "    <tr>\n",
       "      <th>SEOTR_0</th>\n",
       "      <td>0.011671</td>\n",
       "    </tr>\n",
       "    <tr>\n",
       "      <th>AMJIND__Manufacturing-durable_goods</th>\n",
       "      <td>0.011643</td>\n",
       "    </tr>\n",
       "  </tbody>\n",
       "</table>\n",
       "</div>"
      ],
      "text/plain": [
       "                                              importance\n",
       "MAESUPWT                                        0.160977\n",
       "AAGE                                            0.119383\n",
       "DIVVAL                                          0.068358\n",
       "CAPGAIN                                         0.039173\n",
       "CAPLOSS                                         0.034332\n",
       "NOEMP                                           0.033164\n",
       "WKSWORK                                         0.027488\n",
       "AHRSPAY                                         0.022967\n",
       "AHGA__Less_than_1st_grade                       0.018502\n",
       "AMJIND__Entertainment                           0.015260\n",
       "AMJIND__Hospital_services                       0.014662\n",
       "AMJOCC__Protective_services                     0.014120\n",
       "AHGA__Associates_degree-occup_/vocational       0.013911\n",
       "AHGA__Prof_school_degree_(MD_DDS_DVM_LLB_JD)    0.013410\n",
       "ADTOCC_1                                        0.013062\n",
       "AMJOCC__Private_household_services              0.012756\n",
       "ACLSWKR__Private                                0.012520\n",
       "AMJOCC__Other_service                           0.012186\n",
       "SEOTR_0                                         0.011671\n",
       "AMJIND__Manufacturing-durable_goods             0.011643"
      ]
     },
     "execution_count": 328,
     "metadata": {},
     "output_type": "execute_result"
    }
   ],
   "source": [
    "df_importance.sort_values(by=\"importance\", ascending=False).head(20)"
   ]
  },
  {
   "cell_type": "markdown",
   "metadata": {},
   "source": [
    "Continuous variables seem to have been the most important features in our model. Maybe it's due to the fact that lots of categorical data were \"not in universe\".\n",
    "\n",
    "The industry code was significative too, as well as education."
   ]
  },
  {
   "cell_type": "markdown",
   "metadata": {},
   "source": [
    "# Conclusion \n",
    "\n",
    "This Challenge was very interesting given the fact that the data was not easy to manipulate : lots of caterogical variables and 200k observations. We needed to reduce the number of variables. Feature engineering was not obvious as we had only 7 continuous variables. We could have implemented the variable \"CAPGAIN\" - \"CAPLOSS\" but this didn't bring any improvement. \n",
    "\n",
    "A second challenge was the imbalanced dataset. I chose to ignore the fact that our models didn't work so well for the target >50k salary and focus on the Accuracy, rather than the AUC score or f1_score as in the data description of the data set, accuracy scores were given. Taking a step back, I'm not so sure about this choice. I found that not-so-deep Random Forests managed to predict the \"50k+\" target quite well:\n"
   ]
  },
  {
   "cell_type": "code",
   "execution_count": 260,
   "metadata": {
    "collapsed": false
   },
   "outputs": [
    {
     "name": "stdout",
     "output_type": "stream",
     "text": [
      "             precision    recall  f1-score   support\n",
      "\n",
      "          0       0.94      1.00      0.97     93576\n",
      "          1       0.97      0.07      0.14      6186\n",
      "\n",
      "avg / total       0.94      0.94      0.92     99762\n",
      "\n"
     ]
    }
   ],
   "source": [
    "clf = RandomForestClassifier(n_estimators=50, max_depth=10)\n",
    "clf.fit(train_X, train_Y)\n",
    "clf.score(test_X, test_Y)\n",
    "\n",
    "print(classification_report(test_Y, clf.predict(test_X)))"
   ]
  },
  {
   "cell_type": "markdown",
   "metadata": {},
   "source": [
    "We also could have used ACP for dimensionality reduction or even try out a LASSO.\n",
    "\n",
    "To go further, we can try to tune a Neural Network that doesn't seem too bad : "
   ]
  },
  {
   "cell_type": "code",
   "execution_count": 385,
   "metadata": {
    "collapsed": false,
    "scrolled": true
   },
   "outputs": [
    {
     "name": "stdout",
     "output_type": "stream",
     "text": [
      "Iteration 1, loss = 0.14921793\n",
      "Validation score: 0.951460\n",
      "Iteration 2, loss = 0.12308468\n",
      "Validation score: 0.952364\n",
      "Iteration 3, loss = 0.12138442\n",
      "Validation score: 0.952565\n",
      "Iteration 4, loss = 0.12108377\n",
      "Validation score: 0.952138\n",
      "Iteration 5, loss = 0.12063021\n",
      "Validation score: 0.952515\n",
      "Iteration 6, loss = 0.12029061\n",
      "Validation score: 0.952615\n",
      "Iteration 7, loss = 0.12011627\n",
      "Validation score: 0.952716\n",
      "Iteration 8, loss = 0.11966274\n",
      "Validation score: 0.952992\n",
      "Iteration 9, loss = 0.11937882\n",
      "Validation score: 0.952590\n",
      "Iteration 10, loss = 0.11903417\n",
      "Validation score: 0.952766\n",
      "Iteration 11, loss = 0.11829382\n",
      "Validation score: 0.953218\n",
      "Iteration 12, loss = 0.11769532\n",
      "Validation score: 0.953243\n",
      "Iteration 13, loss = 0.11717193\n",
      "Validation score: 0.953494\n",
      "Iteration 14, loss = 0.11655688\n",
      "Validation score: 0.953645\n",
      "Iteration 15, loss = 0.11596745\n",
      "Validation score: 0.953921\n",
      "Iteration 16, loss = 0.11540365\n",
      "Validation score: 0.954222\n",
      "Iteration 17, loss = 0.11493738\n",
      "Validation score: 0.954549\n",
      "Iteration 18, loss = 0.11433957\n",
      "Validation score: 0.954072\n",
      "Iteration 19, loss = 0.11386527\n",
      "Validation score: 0.954524\n",
      "Iteration 20, loss = 0.11340024\n",
      "Validation score: 0.953946\n",
      "Validation score did not improve more than tol=0.000010 for two consecutive epochs. Stopping.\n"
     ]
    },
    {
     "data": {
      "text/plain": [
       "MLPClassifier(activation='logistic', alpha=0.0001, batch_size='auto',\n",
       "       beta_1=0.9, beta_2=0.999, early_stopping=True, epsilon=1e-08,\n",
       "       hidden_layer_sizes=130, learning_rate='constant',\n",
       "       learning_rate_init=0.001, max_iter=200, momentum=0.9,\n",
       "       nesterovs_momentum=True, power_t=0.5, random_state=None,\n",
       "       shuffle=True, solver='adam', tol=1e-05, validation_fraction=0.2,\n",
       "       verbose=True, warm_start=False)"
      ]
     },
     "execution_count": 385,
     "metadata": {},
     "output_type": "execute_result"
    }
   ],
   "source": [
    "mlp = MLPClassifier(hidden_layer_sizes=(130), activation='logistic', verbose=True, tol=0.00001, learning_rate='constant', \\\n",
    "                    early_stopping=True, validation_fraction=0.2, solver='adam')\n",
    "mlp.fit(train_X, train_Y)"
   ]
  },
  {
   "cell_type": "code",
   "execution_count": 386,
   "metadata": {
    "collapsed": false
   },
   "outputs": [
    {
     "data": {
      "text/plain": [
       "0.95550409975742268"
      ]
     },
     "execution_count": 386,
     "metadata": {},
     "output_type": "execute_result"
    }
   ],
   "source": [
    "mlp.score(test_X, test_Y)"
   ]
  }
 ],
 "metadata": {
  "kernelspec": {
   "display_name": "Python [conda root]",
   "language": "python",
   "name": "conda-root-py"
  },
  "language_info": {
   "codemirror_mode": {
    "name": "ipython",
    "version": 3
   },
   "file_extension": ".py",
   "mimetype": "text/x-python",
   "name": "python",
   "nbconvert_exporter": "python",
   "pygments_lexer": "ipython3",
   "version": "3.5.2"
  }
 },
 "nbformat": 4,
 "nbformat_minor": 2
}
