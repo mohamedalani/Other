{
 "cells": [
  {
   "cell_type": "markdown",
   "metadata": {},
   "source": [
    "# Imports needed for the challenge"
   ]
  },
  {
   "cell_type": "code",
   "execution_count": 1,
   "metadata": {
    "collapsed": true
   },
   "outputs": [],
   "source": [
    "import pandas as pd\n",
    "import numpy as np\n",
    "import matplotlib.pyplot as plt\n",
    "%matplotlib inline\n",
    "import seaborn as sns\n",
    "from sklearn import preprocessing \n",
    "from sklearn.metrics import classification_report, confusion_matrix\n",
    "import itertools"
   ]
  },
  {
   "cell_type": "markdown",
   "metadata": {},
   "source": [
    "# Some useful functions "
   ]
  },
  {
   "cell_type": "code",
   "execution_count": 2,
   "metadata": {
    "collapsed": true
   },
   "outputs": [],
   "source": [
    "def plot_confusion_matrix(cm, classes,\n",
    "                          normalize=False,\n",
    "                          title='Confusion matrix',\n",
    "                          cmap=plt.cm.Reds):\n",
    "    \"\"\"\n",
    "    This function prints and plots the confusion matrix.\n",
    "    Normalization can be applied by setting `normalize=True`.\n",
    "    \"\"\"\n",
    "    \n",
    "    if normalize:\n",
    "        cm = cm.astype('float') / cm.sum(axis=0)\n",
    "        cm = np.round(cm,2)\n",
    "        print(\"Normalized confusion matrix\")\n",
    "    else:\n",
    "        print('Confusion matrix, without normalization')\n",
    "        \n",
    "    plt.imshow(cm, interpolation='nearest', cmap=cmap)\n",
    "    plt.title(title)\n",
    "    plt.colorbar()\n",
    "    tick_marks = np.arange(len(classes))\n",
    "    plt.xticks(tick_marks, classes)\n",
    "    plt.yticks(tick_marks, classes)\n",
    "\n",
    "\n",
    "\n",
    "    print(cm)\n",
    "\n",
    "    thresh = cm.max() / 2.\n",
    "    for i, j in itertools.product(range(cm.shape[0]), range(cm.shape[1])):\n",
    "        plt.text(j, i, cm[i, j],\n",
    "                 horizontalalignment=\"center\",\n",
    "                 color=\"black\" if cm[i, j] > thresh else \"white\")\n",
    "\n",
    "    plt.tight_layout()\n",
    "    plt.ylabel('True label')\n",
    "    plt.xlabel('Predicted label')"
   ]
  },
  {
   "cell_type": "markdown",
   "metadata": {},
   "source": [
    "# Reading the CSV using pandas"
   ]
  },
  {
   "cell_type": "code",
   "execution_count": 3,
   "metadata": {
    "collapsed": false
   },
   "outputs": [],
   "source": [
    "#Dictionnary of variables that allows us to have a better understanding of the data\n",
    "column_names_dict = {\"AAGE\": \"age\", \n",
    "        \"ACLSWKR\": \"class of worker\", #private / public\n",
    "        \"ADTIND\" : \"industry code\",\n",
    "        \"ADTOCC\" : \"occupation code\",\n",
    "        \"AHGA\" : \"education\",\n",
    "        \"AHRSPAY\" : \"wage per hour\",\n",
    "        \"AHSCOL\" : \"enrolled in edu inst last wk\",\n",
    "        \"AMARITL\" : \"marital status\",\n",
    "        \"AMJIND\" : \"major industry code\",\n",
    "        \"AMJOCC\" : \"major occupation code\", \n",
    "        \"ARACE\" : \"race\",\n",
    "        \"AREORGN\" : \"hispanic Origin\",\n",
    "        \"ASEX\" : \"sex\", \n",
    "        \"AUNEM\" : \"member of a labor union\",\n",
    "        \"AUNTYPE\" : \"reason for unemployment\",\n",
    "        \"AWKSTAT\" : \"full or part time employment stat\",\n",
    "        \"CAPGAIN\" : \"capital gains\",\n",
    "        \"CAPLOSS\" : \"capital losses\",\n",
    "        \"DIVVAL\" : \"divdends from stocks\",\n",
    "        \"FILESTAT\" : \"tax filer status\",   \n",
    "        \"GRINREG\" : \"region of previous residence\",\n",
    "        \"GRINST\" : \"state of previous residence\",\n",
    "        \"HHDFMX\" : \"detailed household and family stat\",\n",
    "        \"HHDREL\" :  \"detailed household summary in household\",\n",
    "        \"MAESUPWT\" : \"instance weight\",\n",
    "        \"MIGMTR1\" : \"migration code-change in msa\",\n",
    "        \"MIGMTR3\" : \"migration code-change in reg\",\n",
    "        \"MIGMTR4\" : \"migration code-move within reg\",\n",
    "        \"MIGSAME\" : \"live in this house 1 year ago\",\n",
    "        \"MIGSUN\" : \"migration prev res in sunbelt\",\n",
    "        \"NOEMP\" : \"num persons worked for employer\",\n",
    "        \"PARENT\" : \"family members under 18\",      \n",
    "        \"PEARNVAL\" : \"country of birth father\",\n",
    "        \"PEMNTVTY\" : \"country of birth mother\",\n",
    "        \"PENATVTY\" : \"country of birth self\",\n",
    "        \"PRCITSHP\" : \"citizenship\",\n",
    "        \"SEOTR\" : \"own business or self employed\",\n",
    "        \"VETQVA\" : \"fill inc questionnaire for veteran's \",\n",
    "        \"VERYN\" : \"veterans benefits\",\n",
    "        \"WKSWORK\" : \"weeks worked in year\",\n",
    "        \"YEAR\" : \"year\",\n",
    "        \"SALARY\" : \"salary\"}\n",
    "\n",
    "column_names = [\"AAGE\", \"ACLSWKR\", \"ADTIND\", \"ADTOCC\", \"AHGA\", \"AHRSPAY\", \"AHSCOL\",\\\n",
    "                \"AMARITL\", \"AMJIND\", \"AMJOCC\", \"ARACE\", \"AREORGN\", \"ASEX\", \"AUNEMunion\",\\\n",
    "                \"AUNTYPE\", \"AWKSTAT\", \"CAPGAIN\", \"CAPLOSS\", \"DIVVAL\", \"FILESTAT\",\\\n",
    "                \"GRINREG\", \"GRINST\", \"HHDFMX\", \"HHDREL\", \"MAESUPWT\", \"MIGMTR1\", \"MIGMTR3\",\\\n",
    "                \"MIGMTR4\", \"MIGSAME\", \"MIGSUN\", \"NOEMP\", \"PARENT\", \"PEARNVAL\", \"PEMNTVTY\",\\\n",
    "                \"PENATVTY\", \"PRCITSHP\", \"SEOTR\", \"VETQVA\", \"VERYN\", \"WKSWORK\", \"YEAR\", \"SALARY\"]\n",
    "\n",
    "#Continuous and categorical variables will be treated differently \n",
    "continuous_var = [\"AAGE\", \"AHRSPAY\", \"CAPGAIN\", \"CAPLOSS\", \"DIVVAL\", \"NOEMP\", \"WKSWORK\", \"MAESUPWT\", \"SALARY\"]\n",
    "\n",
    "nominal_var = [col for col in column_names if col not in continuous_var]\n",
    "#         \"adjusted gross income\",\n",
    "#         \"federal income tax liability\",\n",
    "#         \"taxable income amount\",\n",
    "#         \"instance weight\",\n",
    "#         \"total person earnings\",\n",
    "#         \"total person income\",\n",
    "       "
   ]
  },
  {
   "cell_type": "code",
   "execution_count": 4,
   "metadata": {
    "collapsed": false
   },
   "outputs": [],
   "source": [
    "train = pd.read_csv(\"us_census_full/census_income_learn.csv\", names=column_names)\n",
    "test = pd.read_csv(\"us_census_full/census_income_test.csv\", names=column_names)"
   ]
  },
  {
   "cell_type": "markdown",
   "metadata": {},
   "source": [
    "# Some insights"
   ]
  },
  {
   "cell_type": "markdown",
   "metadata": {},
   "source": [
    "### Datasets size "
   ]
  },
  {
   "cell_type": "code",
   "execution_count": 5,
   "metadata": {
    "collapsed": false
   },
   "outputs": [
    {
     "name": "stdout",
     "output_type": "stream",
     "text": [
      "train set : 199523 observations, 42 variables\n",
      "test set : 99762 observations, 42 variables\n"
     ]
    }
   ],
   "source": [
    "print(\"train set : {} observations, {} variables\".format(train.shape[0], train.shape[1]))\n",
    "print(\"test set : {} observations, {} variables\".format(test.shape[0], test.shape[1]))"
   ]
  },
  {
   "cell_type": "markdown",
   "metadata": {},
   "source": [
    "** Minimum working age in USA is 16 **"
   ]
  },
  {
   "cell_type": "code",
   "execution_count": 6,
   "metadata": {
    "collapsed": false
   },
   "outputs": [
    {
     "name": "stdout",
     "output_type": "stream",
     "text": [
      "[' - 50000.']\n"
     ]
    }
   ],
   "source": [
    "print(train[train[\"AAGE\"]<16][\"SALARY\"].unique())"
   ]
  },
  {
   "cell_type": "markdown",
   "metadata": {},
   "source": [
    "### Description of continuous variables"
   ]
  },
  {
   "cell_type": "code",
   "execution_count": 7,
   "metadata": {
    "collapsed": false
   },
   "outputs": [
    {
     "data": {
      "text/html": [
       "<div>\n",
       "<table border=\"1\" class=\"dataframe\">\n",
       "  <thead>\n",
       "    <tr style=\"text-align: right;\">\n",
       "      <th></th>\n",
       "      <th>AAGE</th>\n",
       "      <th>AHRSPAY</th>\n",
       "      <th>CAPGAIN</th>\n",
       "      <th>CAPLOSS</th>\n",
       "      <th>DIVVAL</th>\n",
       "      <th>NOEMP</th>\n",
       "      <th>WKSWORK</th>\n",
       "      <th>MAESUPWT</th>\n",
       "    </tr>\n",
       "  </thead>\n",
       "  <tbody>\n",
       "    <tr>\n",
       "      <th>count</th>\n",
       "      <td>199523.000000</td>\n",
       "      <td>199523.000000</td>\n",
       "      <td>199523.00000</td>\n",
       "      <td>199523.000000</td>\n",
       "      <td>199523.000000</td>\n",
       "      <td>199523.000000</td>\n",
       "      <td>199523.000000</td>\n",
       "      <td>199523.000000</td>\n",
       "    </tr>\n",
       "    <tr>\n",
       "      <th>mean</th>\n",
       "      <td>34.494199</td>\n",
       "      <td>55.426908</td>\n",
       "      <td>434.71899</td>\n",
       "      <td>37.313788</td>\n",
       "      <td>197.529533</td>\n",
       "      <td>1.956180</td>\n",
       "      <td>23.174897</td>\n",
       "      <td>1740.380269</td>\n",
       "    </tr>\n",
       "    <tr>\n",
       "      <th>std</th>\n",
       "      <td>22.310895</td>\n",
       "      <td>274.896454</td>\n",
       "      <td>4697.53128</td>\n",
       "      <td>271.896428</td>\n",
       "      <td>1984.163658</td>\n",
       "      <td>2.365126</td>\n",
       "      <td>24.411488</td>\n",
       "      <td>993.768156</td>\n",
       "    </tr>\n",
       "    <tr>\n",
       "      <th>min</th>\n",
       "      <td>0.000000</td>\n",
       "      <td>0.000000</td>\n",
       "      <td>0.00000</td>\n",
       "      <td>0.000000</td>\n",
       "      <td>0.000000</td>\n",
       "      <td>0.000000</td>\n",
       "      <td>0.000000</td>\n",
       "      <td>37.870000</td>\n",
       "    </tr>\n",
       "    <tr>\n",
       "      <th>25%</th>\n",
       "      <td>15.000000</td>\n",
       "      <td>0.000000</td>\n",
       "      <td>0.00000</td>\n",
       "      <td>0.000000</td>\n",
       "      <td>0.000000</td>\n",
       "      <td>0.000000</td>\n",
       "      <td>0.000000</td>\n",
       "      <td>1061.615000</td>\n",
       "    </tr>\n",
       "    <tr>\n",
       "      <th>50%</th>\n",
       "      <td>33.000000</td>\n",
       "      <td>0.000000</td>\n",
       "      <td>0.00000</td>\n",
       "      <td>0.000000</td>\n",
       "      <td>0.000000</td>\n",
       "      <td>1.000000</td>\n",
       "      <td>8.000000</td>\n",
       "      <td>1618.310000</td>\n",
       "    </tr>\n",
       "    <tr>\n",
       "      <th>75%</th>\n",
       "      <td>50.000000</td>\n",
       "      <td>0.000000</td>\n",
       "      <td>0.00000</td>\n",
       "      <td>0.000000</td>\n",
       "      <td>0.000000</td>\n",
       "      <td>4.000000</td>\n",
       "      <td>52.000000</td>\n",
       "      <td>2188.610000</td>\n",
       "    </tr>\n",
       "    <tr>\n",
       "      <th>max</th>\n",
       "      <td>90.000000</td>\n",
       "      <td>9999.000000</td>\n",
       "      <td>99999.00000</td>\n",
       "      <td>4608.000000</td>\n",
       "      <td>99999.000000</td>\n",
       "      <td>6.000000</td>\n",
       "      <td>52.000000</td>\n",
       "      <td>18656.300000</td>\n",
       "    </tr>\n",
       "  </tbody>\n",
       "</table>\n",
       "</div>"
      ],
      "text/plain": [
       "                AAGE        AHRSPAY       CAPGAIN        CAPLOSS  \\\n",
       "count  199523.000000  199523.000000  199523.00000  199523.000000   \n",
       "mean       34.494199      55.426908     434.71899      37.313788   \n",
       "std        22.310895     274.896454    4697.53128     271.896428   \n",
       "min         0.000000       0.000000       0.00000       0.000000   \n",
       "25%        15.000000       0.000000       0.00000       0.000000   \n",
       "50%        33.000000       0.000000       0.00000       0.000000   \n",
       "75%        50.000000       0.000000       0.00000       0.000000   \n",
       "max        90.000000    9999.000000   99999.00000    4608.000000   \n",
       "\n",
       "              DIVVAL          NOEMP        WKSWORK       MAESUPWT  \n",
       "count  199523.000000  199523.000000  199523.000000  199523.000000  \n",
       "mean      197.529533       1.956180      23.174897    1740.380269  \n",
       "std      1984.163658       2.365126      24.411488     993.768156  \n",
       "min         0.000000       0.000000       0.000000      37.870000  \n",
       "25%         0.000000       0.000000       0.000000    1061.615000  \n",
       "50%         0.000000       1.000000       8.000000    1618.310000  \n",
       "75%         0.000000       4.000000      52.000000    2188.610000  \n",
       "max     99999.000000       6.000000      52.000000   18656.300000  "
      ]
     },
     "execution_count": 7,
     "metadata": {},
     "output_type": "execute_result"
    }
   ],
   "source": [
    "train.ix[:, continuous_var].describe()"
   ]
  },
  {
   "cell_type": "code",
   "execution_count": 8,
   "metadata": {
    "collapsed": false
   },
   "outputs": [
    {
     "data": {
      "text/plain": [
       "<matplotlib.axes._subplots.AxesSubplot at 0x19180355e80>"
      ]
     },
     "execution_count": 8,
     "metadata": {},
     "output_type": "execute_result"
    },
    {
     "data": {
      "image/png": "[encoded data removed]",
      "text/plain": [
       "<matplotlib.figure.Figure at 0x191f5b03cc0>"
      ]
     },
     "metadata": {},
     "output_type": "display_data"
    }
   ],
   "source": [
    "train.ix[:, [\"NOEMP\", \"AAGE\", \"WKSWORK\"]].plot.box()"
   ]
  },
  {
   "cell_type": "code",
   "execution_count": 9,
   "metadata": {
    "collapsed": false
   },
   "outputs": [
    {
     "data": {
      "text/plain": [
       "<matplotlib.axes._subplots.AxesSubplot at 0x191868e3898>"
      ]
     },
     "execution_count": 9,
     "metadata": {},
     "output_type": "execute_result"
    },
    {
     "data": {
      "image/png": "[encoded data removed]",
      "text/plain": [
       "<matplotlib.figure.Figure at 0x191803556a0>"
      ]
     },
     "metadata": {},
     "output_type": "display_data"
    }
   ],
   "source": [
    "train.ix[:, [\"MAESUPWT\"]].plot.box()"
   ]
  },
  {
   "cell_type": "code",
   "execution_count": 10,
   "metadata": {
    "collapsed": false
   },
   "outputs": [
    {
     "name": "stderr",
     "output_type": "stream",
     "text": [
      "C:\\Users\\Mohamed\\Anaconda3\\lib\\site-packages\\statsmodels\\nonparametric\\kdetools.py:20: VisibleDeprecationWarning: using a non-integer number instead of an integer will result in an error in the future\n",
      "  y = X[:m/2+1] + np.r_[0,X[m/2+1:],0]*1j\n"
     ]
    },
    {
     "data": {
      "text/plain": [
       "<matplotlib.axes._subplots.AxesSubplot at 0x191804692e8>"
      ]
     },
     "execution_count": 10,
     "metadata": {},
     "output_type": "execute_result"
    },
    {
     "data": {
      "image/png": "[encoded data removed]",
      "text/plain": [
       "<matplotlib.figure.Figure at 0x19185d00cf8>"
      ]
     },
     "metadata": {},
     "output_type": "display_data"
    }
   ],
   "source": [
    "sns.kdeplot(train[\"AAGE\"], shade=True)"
   ]
  },
  {
   "cell_type": "markdown",
   "metadata": {
    "collapsed": true
   },
   "source": [
    "Except for some, our continuous variables seem to have a very high variance that can be explained with extreme values. We will need to ignore aberrant data and standardize our continuous variables."
   ]
  },
  {
   "cell_type": "markdown",
   "metadata": {},
   "source": [
    "### Description of nominal variables"
   ]
  },
  {
   "cell_type": "markdown",
   "metadata": {},
   "source": [
    "Number of categories for each nominal variable :"
   ]
  },
  {
   "cell_type": "code",
   "execution_count": 11,
   "metadata": {
    "collapsed": false
   },
   "outputs": [
    {
     "data": {
      "text/plain": [
       "<matplotlib.axes._subplots.AxesSubplot at 0x19185d20588>"
      ]
     },
     "execution_count": 11,
     "metadata": {},
     "output_type": "execute_result"
    },
    {
     "data": {
      "image/png": "[encoded data removed]",
      "text/plain": [
       "<matplotlib.figure.Figure at 0x19185c07d30>"
      ]
     },
     "metadata": {},
     "output_type": "display_data"
    }
   ],
   "source": [
    "train.ix[:, [col for col in nominal_var if col!=\"MAESUPWT\"]].apply(pd.Series.nunique).plot(kind=\"bar\", figsize=(15,10))"
   ]
  },
  {
   "cell_type": "code",
   "execution_count": 12,
   "metadata": {
    "collapsed": false
   },
   "outputs": [
    {
     "data": {
      "text/plain": [
       "<matplotlib.axes._subplots.AxesSubplot at 0x1918451f240>"
      ]
     },
     "execution_count": 12,
     "metadata": {},
     "output_type": "execute_result"
    },
    {
     "data": {
      "image/png": "[encoded data removed]",
      "text/plain": [
       "<matplotlib.figure.Figure at 0x191f5b1c7f0>"
      ]
     },
     "metadata": {},
     "output_type": "display_data"
    }
   ],
   "source": [
    "train[\"ACLSWKR\"].value_counts().plot(kind='bar')"
   ]
  },
  {
   "cell_type": "markdown",
   "metadata": {},
   "source": [
    "** Insights of Salary variable **"
   ]
  },
  {
   "cell_type": "code",
   "execution_count": 13,
   "metadata": {
    "collapsed": true
   },
   "outputs": [],
   "source": [
    "counts_salary = train[\"SALARY\"].value_counts()"
   ]
  },
  {
   "cell_type": "code",
   "execution_count": 14,
   "metadata": {
    "collapsed": false
   },
   "outputs": [
    {
     "data": {
      "text/plain": [
       "<matplotlib.axes._subplots.AxesSubplot at 0x1918457cbe0>"
      ]
     },
     "execution_count": 14,
     "metadata": {},
     "output_type": "execute_result"
    },
    {
     "data": {
      "image/png": "[encoded data removed]",
      "text/plain": [
       "<matplotlib.figure.Figure at 0x19184588c50>"
      ]
     },
     "metadata": {},
     "output_type": "display_data"
    }
   ],
   "source": [
    "counts_salary.plot(kind='bar')"
   ]
  },
  {
   "cell_type": "code",
   "execution_count": 15,
   "metadata": {
    "collapsed": false
   },
   "outputs": [
    {
     "name": "stdout",
     "output_type": "stream",
     "text": [
      "Percentage of > 50k salary : 6.21% \n"
     ]
    }
   ],
   "source": [
    "print(\"Percentage of > 50k salary : {:.2f}% \".format(counts_salary[1]*100 / (counts_salary[0] + counts_salary[1])))"
   ]
  },
  {
   "cell_type": "markdown",
   "metadata": {},
   "source": [
    "The dataset is strongly unbalanced, we need to keep that in mind and check the confusion matrix when we will start modelization"
   ]
  },
  {
   "cell_type": "markdown",
   "metadata": {},
   "source": [
    "# Some correlations and data relationships "
   ]
  },
  {
   "cell_type": "code",
   "execution_count": 17,
   "metadata": {
    "collapsed": true
   },
   "outputs": [],
   "source": [
    "train[\"SALARY\"] = train[\"SALARY\"].map(lambda x : 0 if x==' - 50000.' else 1)\n",
    "test[\"SALARY\"] = test[\"SALARY\"].map(lambda x : 0 if x==' - 50000.' else 1)"
   ]
  },
  {
   "cell_type": "markdown",
   "metadata": {},
   "source": [
    "### Age differences "
   ]
  },
  {
   "cell_type": "code",
   "execution_count": 18,
   "metadata": {
    "collapsed": false
   },
   "outputs": [
    {
     "data": {
      "text/plain": [
       "<matplotlib.text.Text at 0x19184cc66d8>"
      ]
     },
     "execution_count": 18,
     "metadata": {},
     "output_type": "execute_result"
    },
    {
     "data": {
      "image/png": "[encoded data removed]",
      "text/plain": [
       "<matplotlib.figure.Figure at 0x19184b0e358>"
      ]
     },
     "metadata": {},
     "output_type": "display_data"
    }
   ],
   "source": [
    "age_vs_salary = train.groupby(\"AAGE\")[\"SALARY\"].mean()\n",
    "age_vs_salary = age_vs_salary.reset_index()\n",
    "age_vs_salary.iloc[:,1]*=100\n",
    "plt.plot(age_vs_salary[\"SALARY\"])\n",
    "plt.xlabel(\"Age\")\n",
    "plt.ylabel(\"% of >50k salary\")"
   ]
  },
  {
   "cell_type": "markdown",
   "metadata": {},
   "source": [
    "There seems to have a correlation between the age and the salary. People around 30-60 years old tend to earn way more money than others."
   ]
  },
  {
   "cell_type": "markdown",
   "metadata": {},
   "source": [
    "### Sex differences "
   ]
  },
  {
   "cell_type": "code",
   "execution_count": 27,
   "metadata": {
    "collapsed": false
   },
   "outputs": [
    {
     "data": {
      "text/plain": [
       "(array([0, 1]), <a list of 2 Text xticklabel objects>)"
      ]
     },
     "execution_count": 27,
     "metadata": {},
     "output_type": "execute_result"
    },
    {
     "data": {
      "image/png": "[encoded data removed]",
      "text/plain": [
       "<matplotlib.figure.Figure at 0x19184f307f0>"
      ]
     },
     "metadata": {},
     "output_type": "display_data"
    }
   ],
   "source": [
    "train.groupby(\"ASEX\")[\"SALARY\"].mean().plot(kind=\"bar\")\n",
    "plt.title(\"Male vs Female probability of salary > 50k\")\n",
    "plt.xticks(rotation=0)"
   ]
  },
  {
   "cell_type": "markdown",
   "metadata": {},
   "source": [
    "Male tend to have a better salary than women (almost 10% of men have a salary > 50k for only 2.5% for women)"
   ]
  },
  {
   "cell_type": "markdown",
   "metadata": {},
   "source": [
    "### Race differences"
   ]
  },
  {
   "cell_type": "code",
   "execution_count": 31,
   "metadata": {
    "collapsed": false
   },
   "outputs": [
    {
     "data": {
      "text/plain": [
       "(array([0, 1, 2, 3, 4]), <a list of 5 Text xticklabel objects>)"
      ]
     },
     "execution_count": 31,
     "metadata": {},
     "output_type": "execute_result"
    },
    {
     "data": {
      "image/png": "[encoded data removed]",
      "text/plain": [
       "<matplotlib.figure.Figure at 0x191858e14e0>"
      ]
     },
     "metadata": {},
     "output_type": "display_data"
    }
   ],
   "source": [
    "train.groupby(\"ARACE\")[\"SALARY\"].mean().plot(kind=\"bar\")\n",
    "plt.title(\"Race probability of salary > 50k\")\n",
    "plt.xticks(rotation=30)"
   ]
  },
  {
   "cell_type": "markdown",
   "metadata": {},
   "source": [
    "# Cleaning & Preprocessing"
   ]
  },
  {
   "cell_type": "markdown",
   "metadata": {},
   "source": [
    "We get rid of extreme values that we managed to detect in the insights :"
   ]
  },
  {
   "cell_type": "code",
   "execution_count": 20,
   "metadata": {
    "collapsed": true
   },
   "outputs": [],
   "source": [
    "train = train[train[\"AHRSPAY\"]!=9999]\n",
    "train = train[train[\"CAPGAIN\"]!=99999]\n",
    "train = train[train[\"DIVVAL\"]!=99999]"
   ]
  },
  {
   "cell_type": "markdown",
   "metadata": {},
   "source": [
    "We standardScale our continuous variables. Fitting on the train and transforming the test dataset :"
   ]
  },
  {
   "cell_type": "code",
   "execution_count": 36,
   "metadata": {
    "collapsed": false
   },
   "outputs": [],
   "source": [
    "ss = preprocessing.StandardScaler()\n",
    "train.ix[:, [col for col in continuous_var if col!='SALARY']] = ss.fit_transform(train.ix[:, [col for col in continuous_var if col!='SALARY']])\n",
    "test.ix[:, [col for col in continuous_var if col!='SALARY']] = ss.transform(test.ix[:, [col for col in continuous_var if col!='SALARY']])"
   ]
  },
  {
   "cell_type": "markdown",
   "metadata": {},
   "source": [
    "Let's now create binary variables out of all our nominal variables : "
   ]
  },
  {
   "cell_type": "code",
   "execution_count": 41,
   "metadata": {
    "collapsed": false
   },
   "outputs": [],
   "source": [
    "for var in nominal_var:\n",
    "    dummies = pd.get_dummies(train[var], prefix=var)\n",
    "    train = pd.concat([train, dummies], axis=1)\n",
    "    train.drop(var, axis=1, inplace=True)\n",
    "\n",
    "    dummies = pd.get_dummies(test[var], prefix=var)\n",
    "    test = pd.concat([test, dummies], axis=1)\n",
    "    test.drop(var, axis=1, inplace=True)"
   ]
  },
  {
   "cell_type": "markdown",
   "metadata": {},
   "source": [
    "Let's check the dimensions :"
   ]
  },
  {
   "cell_type": "code",
   "execution_count": 42,
   "metadata": {
    "collapsed": false
   },
   "outputs": [
    {
     "name": "stdout",
     "output_type": "stream",
     "text": [
      "(199523, 512) (99762, 511)\n"
     ]
    }
   ],
   "source": [
    "print(train.shape, test.shape)"
   ]
  },
  {
   "cell_type": "markdown",
   "metadata": {},
   "source": [
    "One variable is contained in the train dataset but isn't in the test one, we get rid of it : "
   ]
  },
  {
   "cell_type": "code",
   "execution_count": 43,
   "metadata": {
    "collapsed": false
   },
   "outputs": [
    {
     "name": "stdout",
     "output_type": "stream",
     "text": [
      "variable :  HHDFMX_ Grandchild <18 ever marr not in subfamily\n"
     ]
    }
   ],
   "source": [
    "for col in train.columns:\n",
    "    if col not in list(test.columns):\n",
    "        print(\"variable : \", col)\n",
    "        train.drop(col, axis=1, inplace=True)"
   ]
  },
  {
   "cell_type": "markdown",
   "metadata": {},
   "source": [
    "Let's change our variable names so we don't have any space or special character in them : "
   ]
  },
  {
   "cell_type": "code",
   "execution_count": 44,
   "metadata": {
    "collapsed": false
   },
   "outputs": [],
   "source": [
    "for var in train.columns:\n",
    "    train.rename(columns={var:var.replace(\" \", \"_\").replace(\",\", \"\").replace(\"[\", \"\").replace(\"]\", \"\").replace(\"<\", \"\")}, inplace=True)\n",
    "    test.rename(columns={var:var.replace(\" \", \"_\").replace(\",\", \"\").replace(\"[\", \"\").replace(\"]\", \"\").replace(\"<\", \"\")}, inplace=True)"
   ]
  },
  {
   "cell_type": "markdown",
   "metadata": {},
   "source": [
    "We drop already binary variables"
   ]
  },
  {
   "cell_type": "code",
   "execution_count": 45,
   "metadata": {
    "collapsed": true
   },
   "outputs": [],
   "source": [
    "train.drop([\"ASEX__Female\", \"YEAR_94\"], axis=1, inplace=True)\n",
    "test.drop([\"ASEX__Female\", \"YEAR_94\"], axis=1, inplace=True)"
   ]
  },
  {
   "cell_type": "markdown",
   "metadata": {},
   "source": [
    "We create X and Y : "
   ]
  },
  {
   "cell_type": "code",
   "execution_count": 49,
   "metadata": {
    "collapsed": true
   },
   "outputs": [],
   "source": [
    "train_X = train.drop(\"SALARY\", axis=1)\n",
    "train_Y = train[\"SALARY\"]\n",
    "test_X = test.drop(\"SALARY\", axis=1)\n",
    "test_Y = test[\"SALARY\"]"
   ]
  },
  {
   "cell_type": "markdown",
   "metadata": {},
   "source": [
    "Let's double check that we have the same number of variables : "
   ]
  },
  {
   "cell_type": "code",
   "execution_count": 50,
   "metadata": {
    "collapsed": false
   },
   "outputs": [
    {
     "name": "stdout",
     "output_type": "stream",
     "text": [
      "(199523, 508) (99762, 508)\n"
     ]
    }
   ],
   "source": [
    "print(train_X.shape, test_X.shape)"
   ]
  },
  {
   "cell_type": "markdown",
   "metadata": {},
   "source": [
    "# Linear Models"
   ]
  },
  {
   "cell_type": "code",
   "execution_count": 51,
   "metadata": {
    "collapsed": false
   },
   "outputs": [
    {
     "data": {
      "text/plain": [
       "0.95353942382871237"
      ]
     },
     "execution_count": 51,
     "metadata": {},
     "output_type": "execute_result"
    }
   ],
   "source": [
    "from sklearn.linear_model import LogisticRegression\n",
    "from sklearn.model_selection import train_test_split\n",
    "from sklearn.model_selection import cross_val_score\n",
    "\n",
    "\n",
    "#X_train, X_val, y_train, y_val = train_test_split(train_X, train_Y, test_size=0.33, random_state=42)\n",
    "\n",
    "clf = LogisticRegression()\n",
    "clf.fit(train_X, train_Y)\n",
    "clf.score(test_X, test_Y)"
   ]
  },
  {
   "cell_type": "code",
   "execution_count": 187,
   "metadata": {
    "collapsed": false
   },
   "outputs": [
    {
     "name": "stdout",
     "output_type": "stream",
     "text": [
      "             precision    recall  f1-score   support\n",
      "\n",
      "          0       0.96      0.99      0.98     93576\n",
      "          1       0.73      0.41      0.52      6186\n",
      "\n",
      "avg / total       0.95      0.95      0.95     99762\n",
      "\n"
     ]
    }
   ],
   "source": [
    "print(classification_report(test_Y, clf.predict(test_X)))"
   ]
  },
  {
   "cell_type": "code",
   "execution_count": 190,
   "metadata": {
    "collapsed": false
   },
   "outputs": [
    {
     "name": "stdout",
     "output_type": "stream",
     "text": [
      "Normalized confusion matrix\n",
      "[[ 0.96  0.27]\n",
      " [ 0.04  0.73]]\n"
     ]
    },
    {
     "data": {
      "image/png": "[encoded data removed]",
      "text/plain": [
       "<matplotlib.figure.Figure at 0x1d500aa4c88>"
      ]
     },
     "metadata": {},
     "output_type": "display_data"
    }
   ],
   "source": [
    "np.set_printoptions(precision=2)\n",
    "plot_confusion_matrix(confusion_matrix(test_Y, clf.predict(test_X)), classes=[\"0\", \"1\"], normalize=True, title='Confusion matrix', cmap=plt.cm.seismic)"
   ]
  },
  {
   "cell_type": "markdown",
   "metadata": {},
   "source": [
    "The model seems good with predicting salaries < 50k but kind of bad for salaries > 50k\n",
    "This is due to the unbalanced dataset... trees models usually have good results with unbalanced datasets. Let's try that."
   ]
  },
  {
   "cell_type": "markdown",
   "metadata": {},
   "source": [
    "# Trees"
   ]
  },
  {
   "cell_type": "markdown",
   "metadata": {},
   "source": [
    "Let's first find hyperparameters for a Random Forest. We will then check the "
   ]
  },
  {
   "cell_type": "code",
   "execution_count": 224,
   "metadata": {
    "collapsed": true
   },
   "outputs": [],
   "source": [
    "from sklearn.ensemble import RandomForestClassifier, GradientBoostingClassifier\n",
    "from sklearn.model_selection import cross_val_score, GridSearchCV, RandomizedSearchCV\n",
    "from sklearn.metrics import f1_score, make_scorer"
   ]
  },
  {
   "cell_type": "code",
   "execution_count": 226,
   "metadata": {
    "collapsed": false
   },
   "outputs": [
    {
     "name": "stderr",
     "output_type": "stream",
     "text": [
      "C:\\Users\\Mohamed\\Anaconda3\\lib\\site-packages\\sklearn\\metrics\\classification.py:1113: UndefinedMetricWarning: F-score is ill-defined and being set to 0.0 due to no predicted samples.\n",
      "  'precision', 'predicted', average, warn_for)\n",
      "C:\\Users\\Mohamed\\Anaconda3\\lib\\site-packages\\sklearn\\metrics\\classification.py:1113: UndefinedMetricWarning: F-score is ill-defined and being set to 0.0 due to no predicted samples.\n",
      "  'precision', 'predicted', average, warn_for)\n",
      "C:\\Users\\Mohamed\\Anaconda3\\lib\\site-packages\\sklearn\\metrics\\classification.py:1113: UndefinedMetricWarning: F-score is ill-defined and being set to 0.0 due to no predicted samples.\n",
      "  'precision', 'predicted', average, warn_for)\n"
     ]
    },
    {
     "name": "stdout",
     "output_type": "stream",
     "text": [
      "Wall time: 4min 59s\n"
     ]
    }
   ],
   "source": [
    "%%time\n",
    "clf = RandomForestClassifier()\n",
    "\n",
    "param_grid = {'n_estimators': [5, 10, 20],\n",
    "             'max_depth' : [5, 10, 15, 20],\n",
    "              \"criterion\" : [\"gini\", \"entropy\"]\n",
    "             }\n",
    "\n",
    "rs = RandomizedSearchCV(clf, param_grid, scoring=make_scorer(f1_score), cv=5)\n",
    "rs.fit(train_X, train_Y)"
   ]
  },
  {
   "cell_type": "code",
   "execution_count": 285,
   "metadata": {
    "collapsed": false
   },
   "outputs": [
    {
     "name": "stdout",
     "output_type": "stream",
     "text": [
      "RandomForestClassifier(bootstrap=True, class_weight=None, criterion='gini',\n",
      "            max_depth=20, max_features='auto', max_leaf_nodes=None,\n",
      "            min_impurity_split=1e-07, min_samples_leaf=1,\n",
      "            min_samples_split=2, min_weight_fraction_leaf=0.0,\n",
      "            n_estimators=5, n_jobs=1, oob_score=False, random_state=None,\n",
      "            verbose=0, warm_start=False)\n"
     ]
    }
   ],
   "source": [
    "print(rs.best_estimator_)\n",
    "\n",
    "clf = RandomForestClassifier(bootstrap=True, class_weight=None, criterion='gini',\n",
    "            max_depth=5, max_features='auto', max_leaf_nodes=None,\n",
    "            min_impurity_split=1e-07, min_samples_leaf=1,\n",
    "            min_samples_split=2, min_weight_fraction_leaf=0.0,\n",
    "            n_estimators=20, n_jobs=1, oob_score=False, random_state=None,\n",
    "            verbose=0, warm_start=False)\n",
    "clf.fit(train_X, train_Y)\n",
    "feat_importance = clf.feature_importances_"
   ]
  },
  {
   "cell_type": "code",
   "execution_count": 286,
   "metadata": {
    "collapsed": false
   },
   "outputs": [],
   "source": [
    "for col, imp in zip(train.columns, feat_importance):\n",
    "    if imp == 0:\n",
    "        train_X.drop(col, axis=1, inplace=True)\n",
    "        test_X.drop(col, axis=1, inplace=True)"
   ]
  },
  {
   "cell_type": "code",
   "execution_count": 254,
   "metadata": {
    "collapsed": false
   },
   "outputs": [
    {
     "name": "stdout",
     "output_type": "stream",
     "text": [
      "0.938172851386\n",
      "Wall time: 3.23 s\n"
     ]
    }
   ],
   "source": [
    "%%time\n",
    "clf = RandomForestClassifier(n_estimators=20, max_depth=5)\n",
    "clf.fit(train_X, train_Y)\n",
    "print(clf.score(test_X, test_Y))"
   ]
  },
  {
   "cell_type": "code",
   "execution_count": 255,
   "metadata": {
    "collapsed": false
   },
   "outputs": [
    {
     "name": "stdout",
     "output_type": "stream",
     "text": [
      "Normalized confusion matrix\n",
      "[[ 0.94  0.  ]\n",
      " [ 0.06  1.  ]]\n"
     ]
    },
    {
     "data": {
      "image/png": "[encoded data removed]",
      "text/plain": [
       "<matplotlib.figure.Figure at 0x1d50091e8d0>"
      ]
     },
     "metadata": {},
     "output_type": "display_data"
    }
   ],
   "source": [
    "plot_confusion_matrix(confusion_matrix(test_Y, clf.predict(test_X)), classes=[\"0\", \"1\"], normalize=True, title='Confusion matrix', cmap=plt.cm.seismic)"
   ]
  },
  {
   "cell_type": "code",
   "execution_count": 256,
   "metadata": {
    "collapsed": false
   },
   "outputs": [
    {
     "name": "stdout",
     "output_type": "stream",
     "text": [
      "0.954702191215\n",
      "Wall time: 1min 46s\n"
     ]
    }
   ],
   "source": [
    "%%time\n",
    "clf = GradientBoostingClassifier()\n",
    "clf.fit(train_X, train_Y)\n",
    "print(clf.score(test_X, test_Y))"
   ]
  },
  {
   "cell_type": "code",
   "execution_count": 257,
   "metadata": {
    "collapsed": false
   },
   "outputs": [
    {
     "name": "stdout",
     "output_type": "stream",
     "text": [
      "Normalized confusion matrix\n",
      "[[ 0.96  0.24]\n",
      " [ 0.04  0.76]]\n"
     ]
    },
    {
     "data": {
      "image/png": "[encoded data removed]",
      "text/plain": [
       "<matplotlib.figure.Figure at 0x1d501f6e630>"
      ]
     },
     "metadata": {},
     "output_type": "display_data"
    }
   ],
   "source": [
    "plot_confusion_matrix(confusion_matrix(test_Y, clf.predict(test_X)), classes=[\"0\", \"1\"], normalize=True, title='Confusion matrix', cmap=plt.cm.seismic)"
   ]
  },
  {
   "cell_type": "code",
   "execution_count": 295,
   "metadata": {
    "collapsed": false
   },
   "outputs": [
    {
     "data": {
      "text/plain": [
       "XGBClassifier(base_score=0.5, colsample_bylevel=1, colsample_bytree=1,\n",
       "       gamma=0, learning_rate=0.1, max_delta_step=0, max_depth=3,\n",
       "       min_child_weight=1, missing=None, n_estimators=100, nthread=-1,\n",
       "       objective='binary:logistic', reg_alpha=0, reg_lambda=1,\n",
       "       scale_pos_weight=1, seed=0, silent=True, subsample=1)"
      ]
     },
     "execution_count": 295,
     "metadata": {},
     "output_type": "execute_result"
    }
   ],
   "source": [
    "from xgboost import XGBClassifier\n",
    "\n",
    "model = XGBClassifier()\n",
    "model.fit(train_X, train_Y)"
   ]
  },
  {
   "cell_type": "code",
   "execution_count": 308,
   "metadata": {
    "collapsed": false
   },
   "outputs": [
    {
     "ename": "ValueError",
     "evalue": "feature_names mismatch: ['AAGE', 'AHRSPAY', 'CAPGAIN', 'CAPLOSS', 'DIVVAL', 'MAESUPWT', 'NOEMP', 'WKSWORK', 'ACLSWKR_Federalgovernment', 'ACLSWKR_Neverworked', 'ACLSWKR_Notinuniverse', 'ACLSWKR_Private', 'ACLSWKR_Self-employed-incorporated', 'ACLSWKR_Self-employed-notincorporated', 'ACLSWKR_Withoutpay', 'ADTIND_2', 'ADTIND_4', 'ADTIND_6', 'ADTIND_14', 'ADTIND_18', 'ADTIND_23', 'ADTIND_26', 'ADTIND_29', 'ADTIND_30', 'ADTIND_31', 'ADTIND_33', 'ADTIND_38', 'ADTIND_42', 'ADTIND_43', 'ADTIND_44', 'ADTIND_51', 'ADTOCC_1', 'ADTOCC_2', 'ADTOCC_3', 'ADTOCC_4', 'ADTOCC_5', 'ADTOCC_6', 'ADTOCC_8', 'ADTOCC_9', 'ADTOCC_10', 'ADTOCC_11', 'ADTOCC_15', 'ADTOCC_17', 'ADTOCC_25', 'ADTOCC_28', 'ADTOCC_29', 'ADTOCC_34', 'ADTOCC_36', 'ADTOCC_40', 'AHGA_5thor6thgrade', 'AHGA_7thand8thgrade', 'AHGA_Associatesdegree-occup/vocational', 'AHGA_Bachelorsdegree(BAABBS)', 'AHGA_Children', 'AHGA_Doctoratedegree(PhDEdD)', 'AHGA_Lessthan1stgrade', 'AHGA_Mastersdegree(MAMSMEngMEdMSWMBA)', 'AHGA_Profschooldegree(MDDDSDVMLLBJD)', 'AHSCOL_Collegeoruniversity', 'AHSCOL_Highschool', 'AHSCOL_Notinuniverse', 'AMARITL_Married-AFspousepresent', 'AMARITL_Married-spouseabsent', 'AMARITL_Separated', 'AMJIND_Communications', 'AMJIND_Entertainment', 'AMJIND_Forestryandfisheries', 'AMJIND_Hospitalservices', 'AMJIND_Manufacturing-durablegoods', 'AMJIND_Manufacturing-nondurablegoods', 'AMJIND_Medicalexcepthospital', 'AMJIND_Mining', 'AMJIND_Notinuniverseorchildren', 'AMJIND_Otherprofessionalservices', 'AMJIND_Privatehouseholdservices', 'AMJIND_Publicadministration', 'AMJIND_Retailtrade', 'AMJIND_Transportation', 'AMJIND_Utilitiesandsanitaryservices', 'AMJIND_Wholesaletrade', 'AMJOCC_ArmedForces', 'AMJOCC_Farmingforestryandfishing', 'AMJOCC_Handlersequipcleanersetc', 'AMJOCC_Machineoperatorsassmblrs&inspctrs', 'AMJOCC_Otherservice', 'AMJOCC_Privatehouseholdservices', 'AMJOCC_Sales', 'AMJOCC_Transportationandmaterialmoving', 'ARACE_AmerIndianAleutorEskimo', 'ARACE_AsianorPacificIslander', 'ARACE_Other', 'ARACE_White', 'AREORGN_Allother', 'AREORGN_Mexican(Mexicano)', 'AREORGN_PuertoRican', 'ASEX_Female', 'ASEX_Male', 'AUNEMunion_No', 'AUNTYPE_Jobleaver', 'AUNTYPE_Newentrant', 'AUNTYPE_Notinuniverse', 'AUNTYPE_Re-entrant', 'AWKSTAT_ChildrenorArmedForces', 'AWKSTAT_Full-timeschedules', 'AWKSTAT_PTforeconreasonsusuallyFT', 'FILESTAT_Headofhousehold', 'FILESTAT_Jointboth65+', 'FILESTAT_Jointoneunder65&one65+', 'FILESTAT_Nonfiler', 'GRINREG_Abroad', 'GRINREG_Northeast', 'GRINST_Idaho', 'GRINST_NewYork', 'GRINST_NorthCarolina', 'GRINST_NorthDakota', 'HHDFMX_Child18+evermarrRPofsubfamily', 'HHDFMX_Child18nevermarrRPofsubfamily', 'HHDFMX_Grandchild18nevermarrnotinsubfamily', 'HHDFMX_Ingroupquarters', 'HHDFMX_OtherRel18+evermarrRPofsubfamily', 'HHDFMX_SpouseofRPofunrelatedsubfamily', 'HHDFMX_Spouseofhouseholder', 'HHDREL_Childunder18evermarried', 'HHDREL_GroupQuarters-Secondaryindividual', 'HHDREL_Householder', 'HHDREL_Nonrelativeofhouseholder', 'HHDREL_Otherrelativeofhouseholder', 'HHDREL_Spouseofhouseholder', 'MIGMTR1_AbroadtononMSA', 'MIGMTR1_NonMSAtoMSA', 'MIGMTR1_NonMSAtononMSA', 'MIGMTR1_Notinuniverse', 'MIGMTR3_?', 'MIGMTR3_Differentdivisionsameregion', 'MIGMTR3_Differentstatesamedivision', 'MIGMTR3_Samecounty', 'MIGMTR4_Abroad', 'MIGMTR4_DifferentstateinWest', 'MIGMTR4_Notinuniverse', 'MIGMTR4_Samecounty', 'MIGSAME_No', 'MIGSAME_Yes', 'MIGSUN_?', 'MIGSUN_No', 'MIGSUN_Notinuniverse', 'MIGSUN_Yes', 'PARENT_Neitherparentpresent', 'PARENT_Notinuniverse', 'PEARNVAL_Cambodia', 'PEARNVAL_China', 'PEARNVAL_France', 'PEARNVAL_Germany', 'PEARNVAL_Hungary', 'PEARNVAL_Iran', 'PEARNVAL_Ireland', 'PEARNVAL_Mexico', 'PEARNVAL_Philippines', 'PEARNVAL_Portugal', 'PEARNVAL_Puerto-Rico', 'PEARNVAL_Trinadad&Tobago', 'PEARNVAL_Vietnam', 'PEARNVAL_Yugoslavia', 'PEMNTVTY_Cambodia', 'PEMNTVTY_Columbia', 'PEMNTVTY_Honduras', 'PEMNTVTY_Hungary', 'PEMNTVTY_Jamaica', 'PEMNTVTY_Peru', 'PEMNTVTY_Portugal', 'PEMNTVTY_SouthKorea', 'PEMNTVTY_Trinadad&Tobago', 'PENATVTY_?', 'PENATVTY_Hungary', 'PENATVTY_Laos', 'PENATVTY_Trinadad&Tobago', 'PENATVTY_Yugoslavia', 'PRCITSHP_Foreignborn-NotacitizenofUS', 'PRCITSHP_Native-BornintheUnitedStates', 'SEOTR_0', 'SEOTR_1', 'VETQVA_No', 'VERYN_1', 'VERYN_2', 'YEAR_95'] ['f0', 'f1', 'f2', 'f3', 'f4', 'f5', 'f6', 'f7', 'f8', 'f9', 'f10', 'f11', 'f12', 'f13', 'f14', 'f15', 'f16', 'f17', 'f18', 'f19', 'f20', 'f21', 'f22', 'f23', 'f24', 'f25', 'f26', 'f27', 'f28', 'f29', 'f30', 'f31', 'f32', 'f33', 'f34', 'f35', 'f36', 'f37', 'f38', 'f39', 'f40', 'f41', 'f42', 'f43', 'f44', 'f45', 'f46', 'f47', 'f48', 'f49', 'f50', 'f51', 'f52', 'f53', 'f54', 'f55', 'f56', 'f57', 'f58', 'f59', 'f60', 'f61', 'f62', 'f63', 'f64', 'f65', 'f66', 'f67', 'f68', 'f69', 'f70', 'f71', 'f72', 'f73', 'f74', 'f75', 'f76', 'f77', 'f78', 'f79', 'f80', 'f81', 'f82', 'f83', 'f84', 'f85', 'f86', 'f87', 'f88', 'f89', 'f90', 'f91', 'f92', 'f93', 'f94', 'f95', 'f96', 'f97', 'f98', 'f99', 'f100', 'f101', 'f102', 'f103', 'f104', 'f105', 'f106', 'f107', 'f108', 'f109', 'f110', 'f111', 'f112', 'f113', 'f114', 'f115', 'f116', 'f117', 'f118', 'f119', 'f120', 'f121', 'f122', 'f123', 'f124', 'f125', 'f126', 'f127', 'f128', 'f129', 'f130', 'f131', 'f132', 'f133', 'f134', 'f135', 'f136', 'f137', 'f138', 'f139', 'f140', 'f141', 'f142', 'f143', 'f144', 'f145', 'f146', 'f147', 'f148', 'f149', 'f150', 'f151', 'f152', 'f153', 'f154', 'f155', 'f156', 'f157', 'f158', 'f159', 'f160', 'f161', 'f162', 'f163', 'f164', 'f165', 'f166', 'f167', 'f168', 'f169', 'f170', 'f171', 'f172', 'f173', 'f174', 'f175', 'f176', 'f177', 'f178', 'f179', 'f180', 'f181', 'f182', 'f183']\nexpected GRINST_NorthCarolina, HHDFMX_Child18+evermarrRPofsubfamily, HHDFMX_OtherRel18+evermarrRPofsubfamily, MIGMTR4_Notinuniverse, AMJIND_Notinuniverseorchildren, PENATVTY_Yugoslavia, PRCITSHP_Foreignborn-NotacitizenofUS, AMJIND_Manufacturing-nondurablegoods, CAPGAIN, AHSCOL_Notinuniverse, AUNTYPE_Jobleaver, AHGA_Doctoratedegree(PhDEdD), FILESTAT_Jointoneunder65&one65+, ADTOCC_9, AMJIND_Hospitalservices, GRINST_Idaho, HHDREL_GroupQuarters-Secondaryindividual, HHDFMX_Spouseofhouseholder, PEARNVAL_Iran, PARENT_Neitherparentpresent, AMARITL_Separated, PEARNVAL_Germany, ADTOCC_1, HHDFMX_Child18nevermarrRPofsubfamily, PEMNTVTY_Peru, AUNTYPE_Newentrant, AWKSTAT_Full-timeschedules, YEAR_95, AMJOCC_Privatehouseholdservices, AHGA_Mastersdegree(MAMSMEngMEdMSWMBA), PEARNVAL_Trinadad&Tobago, PEARNVAL_Cambodia, MIGSAME_Yes, AMJOCC_Sales, PEMNTVTY_Portugal, MIGMTR1_NonMSAtoMSA, AUNEMunion_No, PEARNVAL_Vietnam, MAESUPWT, MIGSUN_?, ACLSWKR_Neverworked, SEOTR_1, ADTIND_18, VETQVA_No, MIGMTR4_DifferentstateinWest, ADTOCC_2, AHGA_Children, AUNTYPE_Notinuniverse, FILESTAT_Nonfiler, ARACE_Other, AAGE, MIGMTR3_Samecounty, PENATVTY_Hungary, MIGSUN_Notinuniverse, PEARNVAL_Portugal, AHGA_Associatesdegree-occup/vocational, MIGMTR3_Differentstatesamedivision, ADTOCC_3, ADTOCC_10, AHSCOL_Highschool, AMARITL_Married-AFspousepresent, ARACE_White, PEARNVAL_Philippines, AHGA_Profschooldegree(MDDDSDVMLLBJD), ADTIND_44, AMJOCC_Farmingforestryandfishing, GRINREG_Northeast, FILESTAT_Jointboth65+, AMJIND_Publicadministration, PEARNVAL_Puerto-Rico, HHDREL_Nonrelativeofhouseholder, MIGMTR1_NonMSAtononMSA, AMJIND_Wholesaletrade, AMJOCC_Otherservice, HHDREL_Childunder18evermarried, ADTOCC_36, ADTOCC_40, VERYN_2, AMJIND_Communications, ADTIND_29, GRINREG_Abroad, PEMNTVTY_Trinadad&Tobago, HHDFMX_Grandchild18nevermarrnotinsubfamily, PEARNVAL_Mexico, PENATVTY_?, SEOTR_0, AWKSTAT_PTforeconreasonsusuallyFT, ADTIND_43, PEARNVAL_France, HHDFMX_SpouseofRPofunrelatedsubfamily, MIGSUN_Yes, PEARNVAL_Ireland, ARACE_AmerIndianAleutorEskimo, ADTIND_23, ASEX_Male, AMJIND_Retailtrade, AUNTYPE_Re-entrant, MIGSUN_No, ADTOCC_17, ADTIND_30, ARACE_AsianorPacificIslander, MIGMTR4_Abroad, AMJIND_Privatehouseholdservices, AHGA_7thand8thgrade, AHGA_Lessthan1stgrade, MIGSAME_No, MIGMTR3_?, MIGMTR3_Differentdivisionsameregion, GRINST_NorthDakota, ACLSWKR_Notinuniverse, ADTOCC_6, HHDFMX_Ingroupquarters, PEMNTVTY_Cambodia, ADTIND_14, AMJOCC_Handlersequipcleanersetc, ADTOCC_8, AHRSPAY, ADTOCC_15, DIVVAL, ACLSWKR_Self-employed-notincorporated, ADTOCC_4, HHDREL_Spouseofhouseholder, ADTOCC_28, ADTIND_4, ASEX_Female, MIGMTR4_Samecounty, ADTIND_2, AWKSTAT_ChildrenorArmedForces, ACLSWKR_Federalgovernment, ADTIND_26, PRCITSHP_Native-BornintheUnitedStates, AMJIND_Entertainment, ADTIND_33, ADTOCC_29, PEMNTVTY_Hungary, AREORGN_PuertoRican, ADTIND_38, ADTIND_42, MIGMTR1_Notinuniverse, FILESTAT_Headofhousehold, PEMNTVTY_Jamaica, ADTOCC_25, MIGMTR1_AbroadtononMSA, PEARNVAL_Yugoslavia, AHSCOL_Collegeoruniversity, AMJIND_Mining, AMJIND_Otherprofessionalservices, ADTOCC_34, AMJIND_Medicalexcepthospital, AMJOCC_ArmedForces, AMJIND_Utilitiesandsanitaryservices, ACLSWKR_Private, ADTOCC_5, PEARNVAL_China, NOEMP, AMARITL_Married-spouseabsent, VERYN_1, AREORGN_Mexican(Mexicano), AREORGN_Allother, ADTIND_51, AMJIND_Forestryandfisheries, ADTIND_6, PENATVTY_Laos, AMJOCC_Machineoperatorsassmblrs&inspctrs, PARENT_Notinuniverse, PEARNVAL_Hungary, PENATVTY_Trinadad&Tobago, ADTIND_31, ACLSWKR_Self-employed-incorporated, GRINST_NewYork, HHDREL_Otherrelativeofhouseholder, PEMNTVTY_SouthKorea, AMJIND_Transportation, PEMNTVTY_Honduras, WKSWORK, AMJIND_Manufacturing-durablegoods, HHDREL_Householder, PEMNTVTY_Columbia, ADTOCC_11, AHGA_Bachelorsdegree(BAABBS), AMJOCC_Transportationandmaterialmoving, AHGA_5thor6thgrade, CAPLOSS, ACLSWKR_Withoutpay in input data\ntraining data did not have the following fields: f89, f61, f144, f159, f141, f99, f101, f151, f171, f95, f152, f72, f100, f97, f145, f23, f69, f58, f118, f112, f65, f74, f7, f140, f79, f77, f45, f167, f180, f44, f55, f110, f29, f115, f135, f170, f38, f60, f26, f108, f30, f83, f131, f104, f84, f160, f12, f125, f1, f25, f107, f87, f116, f126, f134, f153, f138, f109, f31, f164, f51, f15, f6, f67, f161, f42, f70, f105, f173, f0, f155, f177, f91, f43, f94, f68, f85, f10, f111, f28, f64, f127, f20, f168, f132, f122, f4, f166, f47, f71, f130, f88, f3, f33, f137, f148, f59, f114, f53, f21, f174, f156, f142, f54, f36, f121, f103, f106, f40, f123, f139, f75, f19, f181, f129, f182, f169, f93, f37, f172, f46, f73, f158, f16, f56, f143, f136, f8, f9, f102, f90, f154, f157, f124, f162, f163, f48, f27, f133, f32, f175, f13, f50, f17, f78, f62, f113, f11, f2, f5, f52, f178, f147, f81, f66, f41, f150, f179, f39, f86, f98, f57, f120, f49, f22, f146, f80, f183, f24, f117, f149, f176, f14, f82, f34, f96, f18, f76, f35, f119, f128, f63, f92, f165",
     "output_type": "error",
     "traceback": [
      "\u001b[0;31m---------------------------------------------------------------------------\u001b[0m",
      "\u001b[0;31mValueError\u001b[0m                                Traceback (most recent call last)",
      "\u001b[0;32m<ipython-input-308-390e58a15771>\u001b[0m in \u001b[0;36m<module>\u001b[0;34m()\u001b[0m\n\u001b[0;32m----> 1\u001b[0;31m \u001b[0mmodel\u001b[0m\u001b[1;33m.\u001b[0m\u001b[0mscore\u001b[0m\u001b[1;33m(\u001b[0m\u001b[0mtest_X\u001b[0m\u001b[1;33m.\u001b[0m\u001b[0mvalues\u001b[0m\u001b[1;33m,\u001b[0m \u001b[0mtest_Y\u001b[0m\u001b[1;33m)\u001b[0m\u001b[1;33m\u001b[0m\u001b[0m\n\u001b[0m",
      "\u001b[0;32mC:\\Users\\Mohamed\\Anaconda3\\lib\\site-packages\\sklearn\\base.py\u001b[0m in \u001b[0;36mscore\u001b[0;34m(self, X, y, sample_weight)\u001b[0m\n\u001b[1;32m    347\u001b[0m         \"\"\"\n\u001b[1;32m    348\u001b[0m         \u001b[1;32mfrom\u001b[0m \u001b[1;33m.\u001b[0m\u001b[0mmetrics\u001b[0m \u001b[1;32mimport\u001b[0m \u001b[0maccuracy_score\u001b[0m\u001b[1;33m\u001b[0m\u001b[0m\n\u001b[0;32m--> 349\u001b[0;31m         \u001b[1;32mreturn\u001b[0m \u001b[0maccuracy_score\u001b[0m\u001b[1;33m(\u001b[0m\u001b[0my\u001b[0m\u001b[1;33m,\u001b[0m \u001b[0mself\u001b[0m\u001b[1;33m.\u001b[0m\u001b[0mpredict\u001b[0m\u001b[1;33m(\u001b[0m\u001b[0mX\u001b[0m\u001b[1;33m)\u001b[0m\u001b[1;33m,\u001b[0m \u001b[0msample_weight\u001b[0m\u001b[1;33m=\u001b[0m\u001b[0msample_weight\u001b[0m\u001b[1;33m)\u001b[0m\u001b[1;33m\u001b[0m\u001b[0m\n\u001b[0m\u001b[1;32m    350\u001b[0m \u001b[1;33m\u001b[0m\u001b[0m\n\u001b[1;32m    351\u001b[0m \u001b[1;33m\u001b[0m\u001b[0m\n",
      "\u001b[0;32mC:\\Users\\Mohamed\\Anaconda3\\lib\\site-packages\\xgboost\\sklearn.py\u001b[0m in \u001b[0;36mpredict\u001b[0;34m(self, data, output_margin, ntree_limit)\u001b[0m\n\u001b[1;32m    463\u001b[0m         class_probs = self.booster().predict(test_dmatrix,\n\u001b[1;32m    464\u001b[0m                                              \u001b[0moutput_margin\u001b[0m\u001b[1;33m=\u001b[0m\u001b[0moutput_margin\u001b[0m\u001b[1;33m,\u001b[0m\u001b[1;33m\u001b[0m\u001b[0m\n\u001b[0;32m--> 465\u001b[0;31m                                              ntree_limit=ntree_limit)\n\u001b[0m\u001b[1;32m    466\u001b[0m         \u001b[1;32mif\u001b[0m \u001b[0mlen\u001b[0m\u001b[1;33m(\u001b[0m\u001b[0mclass_probs\u001b[0m\u001b[1;33m.\u001b[0m\u001b[0mshape\u001b[0m\u001b[1;33m)\u001b[0m \u001b[1;33m>\u001b[0m \u001b[1;36m1\u001b[0m\u001b[1;33m:\u001b[0m\u001b[1;33m\u001b[0m\u001b[0m\n\u001b[1;32m    467\u001b[0m             \u001b[0mcolumn_indexes\u001b[0m \u001b[1;33m=\u001b[0m \u001b[0mnp\u001b[0m\u001b[1;33m.\u001b[0m\u001b[0margmax\u001b[0m\u001b[1;33m(\u001b[0m\u001b[0mclass_probs\u001b[0m\u001b[1;33m,\u001b[0m \u001b[0maxis\u001b[0m\u001b[1;33m=\u001b[0m\u001b[1;36m1\u001b[0m\u001b[1;33m)\u001b[0m\u001b[1;33m\u001b[0m\u001b[0m\n",
      "\u001b[0;32mC:\\Users\\Mohamed\\Anaconda3\\lib\\site-packages\\xgboost\\core.py\u001b[0m in \u001b[0;36mpredict\u001b[0;34m(self, data, output_margin, ntree_limit, pred_leaf)\u001b[0m\n\u001b[1;32m    937\u001b[0m             \u001b[0moption_mask\u001b[0m \u001b[1;33m|=\u001b[0m \u001b[1;36m0x02\u001b[0m\u001b[1;33m\u001b[0m\u001b[0m\n\u001b[1;32m    938\u001b[0m \u001b[1;33m\u001b[0m\u001b[0m\n\u001b[0;32m--> 939\u001b[0;31m         \u001b[0mself\u001b[0m\u001b[1;33m.\u001b[0m\u001b[0m_validate_features\u001b[0m\u001b[1;33m(\u001b[0m\u001b[0mdata\u001b[0m\u001b[1;33m)\u001b[0m\u001b[1;33m\u001b[0m\u001b[0m\n\u001b[0m\u001b[1;32m    940\u001b[0m \u001b[1;33m\u001b[0m\u001b[0m\n\u001b[1;32m    941\u001b[0m         \u001b[0mlength\u001b[0m \u001b[1;33m=\u001b[0m \u001b[0mctypes\u001b[0m\u001b[1;33m.\u001b[0m\u001b[0mc_ulong\u001b[0m\u001b[1;33m(\u001b[0m\u001b[1;33m)\u001b[0m\u001b[1;33m\u001b[0m\u001b[0m\n",
      "\u001b[0;32mC:\\Users\\Mohamed\\Anaconda3\\lib\\site-packages\\xgboost\\core.py\u001b[0m in \u001b[0;36m_validate_features\u001b[0;34m(self, data)\u001b[0m\n\u001b[1;32m   1177\u001b[0m \u001b[1;33m\u001b[0m\u001b[0m\n\u001b[1;32m   1178\u001b[0m                 raise ValueError(msg.format(self.feature_names,\n\u001b[0;32m-> 1179\u001b[0;31m                                             data.feature_names))\n\u001b[0m\u001b[1;32m   1180\u001b[0m \u001b[1;33m\u001b[0m\u001b[0m\n\u001b[1;32m   1181\u001b[0m     \u001b[1;32mdef\u001b[0m \u001b[0mget_split_value_histogram\u001b[0m\u001b[1;33m(\u001b[0m\u001b[0mself\u001b[0m\u001b[1;33m,\u001b[0m \u001b[0mfeature\u001b[0m\u001b[1;33m,\u001b[0m \u001b[0mfmap\u001b[0m\u001b[1;33m=\u001b[0m\u001b[1;34m''\u001b[0m\u001b[1;33m,\u001b[0m \u001b[0mbins\u001b[0m\u001b[1;33m=\u001b[0m\u001b[1;32mNone\u001b[0m\u001b[1;33m,\u001b[0m \u001b[0mas_pandas\u001b[0m\u001b[1;33m=\u001b[0m\u001b[1;32mTrue\u001b[0m\u001b[1;33m)\u001b[0m\u001b[1;33m:\u001b[0m\u001b[1;33m\u001b[0m\u001b[0m\n",
      "\u001b[0;31mValueError\u001b[0m: feature_names mismatch: ['AAGE', 'AHRSPAY', 'CAPGAIN', 'CAPLOSS', 'DIVVAL', 'MAESUPWT', 'NOEMP', 'WKSWORK', 'ACLSWKR_Federalgovernment', 'ACLSWKR_Neverworked', 'ACLSWKR_Notinuniverse', 'ACLSWKR_Private', 'ACLSWKR_Self-employed-incorporated', 'ACLSWKR_Self-employed-notincorporated', 'ACLSWKR_Withoutpay', 'ADTIND_2', 'ADTIND_4', 'ADTIND_6', 'ADTIND_14', 'ADTIND_18', 'ADTIND_23', 'ADTIND_26', 'ADTIND_29', 'ADTIND_30', 'ADTIND_31', 'ADTIND_33', 'ADTIND_38', 'ADTIND_42', 'ADTIND_43', 'ADTIND_44', 'ADTIND_51', 'ADTOCC_1', 'ADTOCC_2', 'ADTOCC_3', 'ADTOCC_4', 'ADTOCC_5', 'ADTOCC_6', 'ADTOCC_8', 'ADTOCC_9', 'ADTOCC_10', 'ADTOCC_11', 'ADTOCC_15', 'ADTOCC_17', 'ADTOCC_25', 'ADTOCC_28', 'ADTOCC_29', 'ADTOCC_34', 'ADTOCC_36', 'ADTOCC_40', 'AHGA_5thor6thgrade', 'AHGA_7thand8thgrade', 'AHGA_Associatesdegree-occup/vocational', 'AHGA_Bachelorsdegree(BAABBS)', 'AHGA_Children', 'AHGA_Doctoratedegree(PhDEdD)', 'AHGA_Lessthan1stgrade', 'AHGA_Mastersdegree(MAMSMEngMEdMSWMBA)', 'AHGA_Profschooldegree(MDDDSDVMLLBJD)', 'AHSCOL_Collegeoruniversity', 'AHSCOL_Highschool', 'AHSCOL_Notinuniverse', 'AMARITL_Married-AFspousepresent', 'AMARITL_Married-spouseabsent', 'AMARITL_Separated', 'AMJIND_Communications', 'AMJIND_Entertainment', 'AMJIND_Forestryandfisheries', 'AMJIND_Hospitalservices', 'AMJIND_Manufacturing-durablegoods', 'AMJIND_Manufacturing-nondurablegoods', 'AMJIND_Medicalexcepthospital', 'AMJIND_Mining', 'AMJIND_Notinuniverseorchildren', 'AMJIND_Otherprofessionalservices', 'AMJIND_Privatehouseholdservices', 'AMJIND_Publicadministration', 'AMJIND_Retailtrade', 'AMJIND_Transportation', 'AMJIND_Utilitiesandsanitaryservices', 'AMJIND_Wholesaletrade', 'AMJOCC_ArmedForces', 'AMJOCC_Farmingforestryandfishing', 'AMJOCC_Handlersequipcleanersetc', 'AMJOCC_Machineoperatorsassmblrs&inspctrs', 'AMJOCC_Otherservice', 'AMJOCC_Privatehouseholdservices', 'AMJOCC_Sales', 'AMJOCC_Transportationandmaterialmoving', 'ARACE_AmerIndianAleutorEskimo', 'ARACE_AsianorPacificIslander', 'ARACE_Other', 'ARACE_White', 'AREORGN_Allother', 'AREORGN_Mexican(Mexicano)', 'AREORGN_PuertoRican', 'ASEX_Female', 'ASEX_Male', 'AUNEMunion_No', 'AUNTYPE_Jobleaver', 'AUNTYPE_Newentrant', 'AUNTYPE_Notinuniverse', 'AUNTYPE_Re-entrant', 'AWKSTAT_ChildrenorArmedForces', 'AWKSTAT_Full-timeschedules', 'AWKSTAT_PTforeconreasonsusuallyFT', 'FILESTAT_Headofhousehold', 'FILESTAT_Jointboth65+', 'FILESTAT_Jointoneunder65&one65+', 'FILESTAT_Nonfiler', 'GRINREG_Abroad', 'GRINREG_Northeast', 'GRINST_Idaho', 'GRINST_NewYork', 'GRINST_NorthCarolina', 'GRINST_NorthDakota', 'HHDFMX_Child18+evermarrRPofsubfamily', 'HHDFMX_Child18nevermarrRPofsubfamily', 'HHDFMX_Grandchild18nevermarrnotinsubfamily', 'HHDFMX_Ingroupquarters', 'HHDFMX_OtherRel18+evermarrRPofsubfamily', 'HHDFMX_SpouseofRPofunrelatedsubfamily', 'HHDFMX_Spouseofhouseholder', 'HHDREL_Childunder18evermarried', 'HHDREL_GroupQuarters-Secondaryindividual', 'HHDREL_Householder', 'HHDREL_Nonrelativeofhouseholder', 'HHDREL_Otherrelativeofhouseholder', 'HHDREL_Spouseofhouseholder', 'MIGMTR1_AbroadtononMSA', 'MIGMTR1_NonMSAtoMSA', 'MIGMTR1_NonMSAtononMSA', 'MIGMTR1_Notinuniverse', 'MIGMTR3_?', 'MIGMTR3_Differentdivisionsameregion', 'MIGMTR3_Differentstatesamedivision', 'MIGMTR3_Samecounty', 'MIGMTR4_Abroad', 'MIGMTR4_DifferentstateinWest', 'MIGMTR4_Notinuniverse', 'MIGMTR4_Samecounty', 'MIGSAME_No', 'MIGSAME_Yes', 'MIGSUN_?', 'MIGSUN_No', 'MIGSUN_Notinuniverse', 'MIGSUN_Yes', 'PARENT_Neitherparentpresent', 'PARENT_Notinuniverse', 'PEARNVAL_Cambodia', 'PEARNVAL_China', 'PEARNVAL_France', 'PEARNVAL_Germany', 'PEARNVAL_Hungary', 'PEARNVAL_Iran', 'PEARNVAL_Ireland', 'PEARNVAL_Mexico', 'PEARNVAL_Philippines', 'PEARNVAL_Portugal', 'PEARNVAL_Puerto-Rico', 'PEARNVAL_Trinadad&Tobago', 'PEARNVAL_Vietnam', 'PEARNVAL_Yugoslavia', 'PEMNTVTY_Cambodia', 'PEMNTVTY_Columbia', 'PEMNTVTY_Honduras', 'PEMNTVTY_Hungary', 'PEMNTVTY_Jamaica', 'PEMNTVTY_Peru', 'PEMNTVTY_Portugal', 'PEMNTVTY_SouthKorea', 'PEMNTVTY_Trinadad&Tobago', 'PENATVTY_?', 'PENATVTY_Hungary', 'PENATVTY_Laos', 'PENATVTY_Trinadad&Tobago', 'PENATVTY_Yugoslavia', 'PRCITSHP_Foreignborn-NotacitizenofUS', 'PRCITSHP_Native-BornintheUnitedStates', 'SEOTR_0', 'SEOTR_1', 'VETQVA_No', 'VERYN_1', 'VERYN_2', 'YEAR_95'] ['f0', 'f1', 'f2', 'f3', 'f4', 'f5', 'f6', 'f7', 'f8', 'f9', 'f10', 'f11', 'f12', 'f13', 'f14', 'f15', 'f16', 'f17', 'f18', 'f19', 'f20', 'f21', 'f22', 'f23', 'f24', 'f25', 'f26', 'f27', 'f28', 'f29', 'f30', 'f31', 'f32', 'f33', 'f34', 'f35', 'f36', 'f37', 'f38', 'f39', 'f40', 'f41', 'f42', 'f43', 'f44', 'f45', 'f46', 'f47', 'f48', 'f49', 'f50', 'f51', 'f52', 'f53', 'f54', 'f55', 'f56', 'f57', 'f58', 'f59', 'f60', 'f61', 'f62', 'f63', 'f64', 'f65', 'f66', 'f67', 'f68', 'f69', 'f70', 'f71', 'f72', 'f73', 'f74', 'f75', 'f76', 'f77', 'f78', 'f79', 'f80', 'f81', 'f82', 'f83', 'f84', 'f85', 'f86', 'f87', 'f88', 'f89', 'f90', 'f91', 'f92', 'f93', 'f94', 'f95', 'f96', 'f97', 'f98', 'f99', 'f100', 'f101', 'f102', 'f103', 'f104', 'f105', 'f106', 'f107', 'f108', 'f109', 'f110', 'f111', 'f112', 'f113', 'f114', 'f115', 'f116', 'f117', 'f118', 'f119', 'f120', 'f121', 'f122', 'f123', 'f124', 'f125', 'f126', 'f127', 'f128', 'f129', 'f130', 'f131', 'f132', 'f133', 'f134', 'f135', 'f136', 'f137', 'f138', 'f139', 'f140', 'f141', 'f142', 'f143', 'f144', 'f145', 'f146', 'f147', 'f148', 'f149', 'f150', 'f151', 'f152', 'f153', 'f154', 'f155', 'f156', 'f157', 'f158', 'f159', 'f160', 'f161', 'f162', 'f163', 'f164', 'f165', 'f166', 'f167', 'f168', 'f169', 'f170', 'f171', 'f172', 'f173', 'f174', 'f175', 'f176', 'f177', 'f178', 'f179', 'f180', 'f181', 'f182', 'f183']\nexpected GRINST_NorthCarolina, HHDFMX_Child18+evermarrRPofsubfamily, HHDFMX_OtherRel18+evermarrRPofsubfamily, MIGMTR4_Notinuniverse, AMJIND_Notinuniverseorchildren, PENATVTY_Yugoslavia, PRCITSHP_Foreignborn-NotacitizenofUS, AMJIND_Manufacturing-nondurablegoods, CAPGAIN, AHSCOL_Notinuniverse, AUNTYPE_Jobleaver, AHGA_Doctoratedegree(PhDEdD), FILESTAT_Jointoneunder65&one65+, ADTOCC_9, AMJIND_Hospitalservices, GRINST_Idaho, HHDREL_GroupQuarters-Secondaryindividual, HHDFMX_Spouseofhouseholder, PEARNVAL_Iran, PARENT_Neitherparentpresent, AMARITL_Separated, PEARNVAL_Germany, ADTOCC_1, HHDFMX_Child18nevermarrRPofsubfamily, PEMNTVTY_Peru, AUNTYPE_Newentrant, AWKSTAT_Full-timeschedules, YEAR_95, AMJOCC_Privatehouseholdservices, AHGA_Mastersdegree(MAMSMEngMEdMSWMBA), PEARNVAL_Trinadad&Tobago, PEARNVAL_Cambodia, MIGSAME_Yes, AMJOCC_Sales, PEMNTVTY_Portugal, MIGMTR1_NonMSAtoMSA, AUNEMunion_No, PEARNVAL_Vietnam, MAESUPWT, MIGSUN_?, ACLSWKR_Neverworked, SEOTR_1, ADTIND_18, VETQVA_No, MIGMTR4_DifferentstateinWest, ADTOCC_2, AHGA_Children, AUNTYPE_Notinuniverse, FILESTAT_Nonfiler, ARACE_Other, AAGE, MIGMTR3_Samecounty, PENATVTY_Hungary, MIGSUN_Notinuniverse, PEARNVAL_Portugal, AHGA_Associatesdegree-occup/vocational, MIGMTR3_Differentstatesamedivision, ADTOCC_3, ADTOCC_10, AHSCOL_Highschool, AMARITL_Married-AFspousepresent, ARACE_White, PEARNVAL_Philippines, AHGA_Profschooldegree(MDDDSDVMLLBJD), ADTIND_44, AMJOCC_Farmingforestryandfishing, GRINREG_Northeast, FILESTAT_Jointboth65+, AMJIND_Publicadministration, PEARNVAL_Puerto-Rico, HHDREL_Nonrelativeofhouseholder, MIGMTR1_NonMSAtononMSA, AMJIND_Wholesaletrade, AMJOCC_Otherservice, HHDREL_Childunder18evermarried, ADTOCC_36, ADTOCC_40, VERYN_2, AMJIND_Communications, ADTIND_29, GRINREG_Abroad, PEMNTVTY_Trinadad&Tobago, HHDFMX_Grandchild18nevermarrnotinsubfamily, PEARNVAL_Mexico, PENATVTY_?, SEOTR_0, AWKSTAT_PTforeconreasonsusuallyFT, ADTIND_43, PEARNVAL_France, HHDFMX_SpouseofRPofunrelatedsubfamily, MIGSUN_Yes, PEARNVAL_Ireland, ARACE_AmerIndianAleutorEskimo, ADTIND_23, ASEX_Male, AMJIND_Retailtrade, AUNTYPE_Re-entrant, MIGSUN_No, ADTOCC_17, ADTIND_30, ARACE_AsianorPacificIslander, MIGMTR4_Abroad, AMJIND_Privatehouseholdservices, AHGA_7thand8thgrade, AHGA_Lessthan1stgrade, MIGSAME_No, MIGMTR3_?, MIGMTR3_Differentdivisionsameregion, GRINST_NorthDakota, ACLSWKR_Notinuniverse, ADTOCC_6, HHDFMX_Ingroupquarters, PEMNTVTY_Cambodia, ADTIND_14, AMJOCC_Handlersequipcleanersetc, ADTOCC_8, AHRSPAY, ADTOCC_15, DIVVAL, ACLSWKR_Self-employed-notincorporated, ADTOCC_4, HHDREL_Spouseofhouseholder, ADTOCC_28, ADTIND_4, ASEX_Female, MIGMTR4_Samecounty, ADTIND_2, AWKSTAT_ChildrenorArmedForces, ACLSWKR_Federalgovernment, ADTIND_26, PRCITSHP_Native-BornintheUnitedStates, AMJIND_Entertainment, ADTIND_33, ADTOCC_29, PEMNTVTY_Hungary, AREORGN_PuertoRican, ADTIND_38, ADTIND_42, MIGMTR1_Notinuniverse, FILESTAT_Headofhousehold, PEMNTVTY_Jamaica, ADTOCC_25, MIGMTR1_AbroadtononMSA, PEARNVAL_Yugoslavia, AHSCOL_Collegeoruniversity, AMJIND_Mining, AMJIND_Otherprofessionalservices, ADTOCC_34, AMJIND_Medicalexcepthospital, AMJOCC_ArmedForces, AMJIND_Utilitiesandsanitaryservices, ACLSWKR_Private, ADTOCC_5, PEARNVAL_China, NOEMP, AMARITL_Married-spouseabsent, VERYN_1, AREORGN_Mexican(Mexicano), AREORGN_Allother, ADTIND_51, AMJIND_Forestryandfisheries, ADTIND_6, PENATVTY_Laos, AMJOCC_Machineoperatorsassmblrs&inspctrs, PARENT_Notinuniverse, PEARNVAL_Hungary, PENATVTY_Trinadad&Tobago, ADTIND_31, ACLSWKR_Self-employed-incorporated, GRINST_NewYork, HHDREL_Otherrelativeofhouseholder, PEMNTVTY_SouthKorea, AMJIND_Transportation, PEMNTVTY_Honduras, WKSWORK, AMJIND_Manufacturing-durablegoods, HHDREL_Householder, PEMNTVTY_Columbia, ADTOCC_11, AHGA_Bachelorsdegree(BAABBS), AMJOCC_Transportationandmaterialmoving, AHGA_5thor6thgrade, CAPLOSS, ACLSWKR_Withoutpay in input data\ntraining data did not have the following fields: f89, f61, f144, f159, f141, f99, f101, f151, f171, f95, f152, f72, f100, f97, f145, f23, f69, f58, f118, f112, f65, f74, f7, f140, f79, f77, f45, f167, f180, f44, f55, f110, f29, f115, f135, f170, f38, f60, f26, f108, f30, f83, f131, f104, f84, f160, f12, f125, f1, f25, f107, f87, f116, f126, f134, f153, f138, f109, f31, f164, f51, f15, f6, f67, f161, f42, f70, f105, f173, f0, f155, f177, f91, f43, f94, f68, f85, f10, f111, f28, f64, f127, f20, f168, f132, f122, f4, f166, f47, f71, f130, f88, f3, f33, f137, f148, f59, f114, f53, f21, f174, f156, f142, f54, f36, f121, f103, f106, f40, f123, f139, f75, f19, f181, f129, f182, f169, f93, f37, f172, f46, f73, f158, f16, f56, f143, f136, f8, f9, f102, f90, f154, f157, f124, f162, f163, f48, f27, f133, f32, f175, f13, f50, f17, f78, f62, f113, f11, f2, f5, f52, f178, f147, f81, f66, f41, f150, f179, f39, f86, f98, f57, f120, f49, f22, f146, f80, f183, f24, f117, f149, f176, f14, f82, f34, f96, f18, f76, f35, f119, f128, f63, f92, f165"
     ]
    }
   ],
   "source": [
    "model.score(test_X.values, test_Y)"
   ]
  },
  {
   "cell_type": "code",
   "execution_count": 304,
   "metadata": {
    "collapsed": false
   },
   "outputs": [],
   "source": []
  },
  {
   "cell_type": "code",
   "execution_count": 311,
   "metadata": {
    "collapsed": false
   },
   "outputs": [
    {
     "data": {
      "text/plain": [
       "184"
      ]
     },
     "execution_count": 311,
     "metadata": {},
     "output_type": "execute_result"
    }
   ],
   "source": [
    "len(train_X.columns)"
   ]
  }
 ],
 "metadata": {
  "kernelspec": {
   "display_name": "Python [conda root]",
   "language": "python",
   "name": "conda-root-py"
  },
  "language_info": {
   "codemirror_mode": {
    "name": "ipython",
    "version": 3
   },
   "file_extension": ".py",
   "mimetype": "text/x-python",
   "name": "python",
   "nbconvert_exporter": "python",
   "pygments_lexer": "ipython3",
   "version": "3.5.2"
  }
 },
 "nbformat": 4,
 "nbformat_minor": 2
}
