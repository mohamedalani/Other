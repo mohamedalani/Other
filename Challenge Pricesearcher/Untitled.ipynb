{
 "cells": [
  {
   "cell_type": "markdown",
   "metadata": {},
   "source": [
    "# Imports"
   ]
  },
  {
   "cell_type": "code",
   "execution_count": 8,
   "metadata": {
    "collapsed": true
   },
   "outputs": [],
   "source": [
    "import requests\n",
    "from bs4 import BeautifulSoup\n",
    "import pandas as pd\n",
    "pd.options.mode.chained_assignment = None  # default='warn'\n",
    "import numpy as np"
   ]
  },
  {
   "cell_type": "markdown",
   "metadata": {},
   "source": [
    "# Problem 1 : \n",
    "**Given an unknown-lenght array of the form 1, 1, 1, ..., 1, 0, 0, ..., 0, ... (with 1s at\n",
    "the first places and 0s after this), and the interface function getElement(array A, int i)\n",
    "that returns the i-th element of the given array, describe an efficient algorithm to count the\n",
    "number of 1s.**"
   ]
  },
  {
   "cell_type": "markdown",
   "metadata": {},
   "source": [
    "We will try to solve this problem with dichotomy. \n",
    "\n",
    "We can solve this problem by itering over the whole array and increment an integer. The time complexity of this simple solution  would be O(n). \n",
    "\n",
    "We can use dichotomy to find the solution in O(Logn) time. The idea is to find the last occurrence of 1 using Dichotomy : \n",
    "1. We split the array in two, getting the mid element. \n",
    "2. We test wether the mid element is the last 1 in the array. In that case, we return the mid index.\n",
    "3. If not and mid index element is 0, then we split the array and two and do the same on the left side of the array, else the right side."
   ]
  },
  {
   "cell_type": "code",
   "execution_count": 83,
   "metadata": {
    "collapsed": false
   },
   "outputs": [
    {
     "name": "stdout",
     "output_type": "stream",
     "text": [
      "Number of 1s in the array : 8\n"
     ]
    }
   ],
   "source": [
    "array = [1,1,1,1,1,1,1,1,0,0,0,0]\n",
    "\n",
    "def getElement(array, i):\n",
    "    return array[i]\n",
    "\n",
    "# Returns counts of 1's in arr[low..high].  The array is\n",
    "def number_ones(array, low, high):\n",
    "    #If high < low then we have no 1s in the array\n",
    "    if high>=low:\n",
    "        \n",
    "        # get the middle index\n",
    "        mid = low + (high-low)//2\n",
    "         \n",
    "        # check if the element at mid index is 1\n",
    "        if getElement(array, mid)==1 :\n",
    "            #Check if the element at mid+1 is 0 or mid == high, then \n",
    "            if (mid == high or getElement(array, mid+1)==0) :\n",
    "                return mid+1\n",
    "            \n",
    "            # If the element at mid index is not last 1, we split the array and recur from the right side\n",
    "            else : \n",
    "                return number_ones(array, (mid+1), high)\n",
    "            \n",
    "             \n",
    "        # else we recur from the left side\n",
    "        return number_ones(array, low, mid-1)\n",
    "     \n",
    "    return 0\n",
    "\n",
    "print(\"Number of 1s in the array :\", number_ones(array, 0, len(array)-1))"
   ]
  },
  {
   "cell_type": "markdown",
   "metadata": {},
   "source": [
    "# Problem 2 : \n",
    "**Given a set of all integers from 1 to N missing only one of them, identify which\n",
    "one is missing in an efficient way.**\n",
    "\n",
    "In the same way, we can use dichotomy to get a O(logn) time complexity. We will try to find the first index for which getElement(index) != index "
   ]
  },
  {
   "cell_type": "code",
   "execution_count": 87,
   "metadata": {
    "collapsed": false
   },
   "outputs": [
    {
     "name": "stdout",
     "output_type": "stream",
     "text": [
      "array with missing 8 : \n",
      "[0, 1, 2, 3, 4, 5, 6, 7, 9, 10, 11, 12, 13, 14, 15, 16, 17, 18, 19]\n",
      "indexes :\n",
      "[0, 1, 2, 3, 4, 5, 6, 7, 8, 9, 10, 11, 12, 13, 14, 15, 16, 17, 18]\n"
     ]
    }
   ],
   "source": [
    "array = list(np.arange(0,20))\n",
    "del array[8]\n",
    "print(\"array with missing 8 : \")\n",
    "print(array)\n",
    "print(\"indexes :\")\n",
    "print(list(np.arange(19)))"
   ]
  },
  {
   "cell_type": "code",
   "execution_count": 81,
   "metadata": {
    "collapsed": false
   },
   "outputs": [
    {
     "data": {
      "text/plain": [
       "8"
      ]
     },
     "execution_count": 81,
     "metadata": {},
     "output_type": "execute_result"
    }
   ],
   "source": [
    "def missing_elt(array, low, high): \n",
    "    mid = low + (high-low)//2\n",
    "    if array[mid] != mid:\n",
    "        if array[mid-1] != mid-1:\n",
    "            return missing_elt(array, low, mid-1)\n",
    "        else :\n",
    "            return mid\n",
    "    else:\n",
    "        return missing_elt(array, mid+1, high)\n",
    "    \n",
    "print(\"The missing element in the array is :\", missing_elt(array, 0, len(array)-1))"
   ]
  },
  {
   "cell_type": "markdown",
   "metadata": {},
   "source": [
    "# Problem 5 : \n",
    "** In Euroleague basketball competition the Performance Index Rating (PIR) is\n",
    "used to determine the MVP of each round. It is a statistical formula that uses the players’\n",
    "stats during each game, e.g. points, rebounds, assists, etc. The stats can be found in the\n",
    "GAME CENTER section of http://www.euroleague.net for the majority of the games in the\n",
    "last years.**\n",
    "\n",
    "\n",
    "**Assuming that we don’t know the actual PIR formula, what is your approach(es) in order\n",
    "to determine it? Please, give as many details as possible. **\n",
    "\n",
    "**For your consideration, the answer can be found here and the actual PIR formula is\n",
    "(Points + Rebounds + Assists + Steals + Blocks + Fouls Drawn) -\n",
    "(Missed FG + Missed FT + Turnovers + Shots Rejected + Fouls Committed)**\n",
    "\n",
    "\n",
    "**where FG stands for Field Goals and FT stands for Free Throws. ** "
   ]
  },
  {
   "cell_type": "markdown",
   "metadata": {},
   "source": [
    "## Let's scrap all the stats of some players"
   ]
  },
  {
   "cell_type": "markdown",
   "metadata": {},
   "source": [
    "We will only scrap the first page as we will have enough data "
   ]
  },
  {
   "cell_type": "code",
   "execution_count": 34,
   "metadata": {
    "collapsed": false
   },
   "outputs": [],
   "source": [
    "#We create a dictionary of indexes used in the website :\n",
    "dico = {3 : \"points\", 9 : \"rebonds\", 10 : \"assists\", 11 : \"steals\", 13 : \"blocks\", 16 : \"fouls drown\",\\\n",
    "        4 : \"missed fg1\", 5 : \"missed fg2\", 6 : \"missed ft\", 12 : \"turnovers\", 14 : \"shots rejected\", 15 : \"fouls committed\", \\\n",
    "       17 : \"PIR\"}\n",
    "\n",
    "#We first scrap the first page\n",
    "results = requests.get(\"http://www.euroleague.net/main/statistics?mode=Leaders&entity=Players&seasonmode=Single&seasoncode=E2017&cat=Valuation&agg=Accumulated\")\n",
    "soup = BeautifulSoup(results.text, 'html.parser')\n",
    "df = pd.DataFrame(columns=dico.values())"
   ]
  },
  {
   "cell_type": "code",
   "execution_count": 89,
   "metadata": {
    "collapsed": false,
    "scrolled": true
   },
   "outputs": [],
   "source": [
    "i = 0\n",
    "#We find all the links leading to specific players pages to get the stats and PIR\n",
    "for tr in soup.find(\"table\").findAll(\"tr\")[1:]:\n",
    "    res = requests.get(\"http://www.euroleague.net/\"+tr.findAll(\"td\")[1].find('a', href=True)[\"href\"])\n",
    "    player = BeautifulSoup(res.text, 'html.parser')\n",
    "    \n",
    "    for line in (player.findAll(\"table\")[1].findAll(\"tr\")):\n",
    "        if \"TotalFooter\" in str(line) or \"AverageFooter\" in str(line):\n",
    "            continue\n",
    "        td = line.findAll('td')\n",
    "        try : \n",
    "            for key in dico.keys():\n",
    "                df.loc[i, dico[key]] = td[key].text\n",
    "            i += 1\n",
    "        except : \n",
    "            pass"
   ]
  },
  {
   "cell_type": "markdown",
   "metadata": {},
   "source": [
    "Some text replacements and cleaning..."
   ]
  },
  {
   "cell_type": "code",
   "execution_count": 90,
   "metadata": {
    "collapsed": false
   },
   "outputs": [],
   "source": [
    "df = df[~df[\"missed fg1\"].str.contains(\"%\")]"
   ]
  },
  {
   "cell_type": "code",
   "execution_count": 91,
   "metadata": {
    "collapsed": false
   },
   "outputs": [],
   "source": [
    "df.replace({\"\\n\" : \"\", \"\" : \"0\", '\\xa0' : \"0\"}, regex=True, inplace=True)"
   ]
  },
  {
   "cell_type": "code",
   "execution_count": 92,
   "metadata": {
    "collapsed": false
   },
   "outputs": [],
   "source": [
    "def parse_str(x):\n",
    "    temp = x.split(\"/\")\n",
    "    if len(temp) == 2:\n",
    "        return int(temp[1]) - int(temp[0])\n",
    "    else : \n",
    "        return(x)\n",
    "    \n",
    "df[\"missed fg1\"] = df[\"missed fg1\"].map(lambda x : parse_str(x))\n",
    "df[\"missed fg2\"] = df[\"missed fg2\"].map(lambda x : parse_str(x))\n",
    "df[\"missed ft\"] = df[\"missed ft\"].map(lambda x : parse_str(x))\n"
   ]
  },
  {
   "cell_type": "code",
   "execution_count": 93,
   "metadata": {
    "collapsed": false
   },
   "outputs": [],
   "source": [
    "df = df.astype(float)"
   ]
  },
  {
   "cell_type": "markdown",
   "metadata": {},
   "source": [
    "### 1st idea :\n",
    "solve a linar equation"
   ]
  },
  {
   "cell_type": "code",
   "execution_count": 94,
   "metadata": {
    "collapsed": false
   },
   "outputs": [],
   "source": [
    "a = df.drop(\"PIR\", axis=1).iloc[:df.shape[1]-1, :]"
   ]
  },
  {
   "cell_type": "code",
   "execution_count": 95,
   "metadata": {
    "collapsed": false
   },
   "outputs": [],
   "source": [
    "b = df[\"PIR\"][:df.shape[1]-1]"
   ]
  },
  {
   "cell_type": "code",
   "execution_count": 96,
   "metadata": {
    "collapsed": false
   },
   "outputs": [
    {
     "data": {
      "text/plain": [
       "array([ 1., -1., -1., -1.,  1.,  1.,  1., -1.,  1., -1., -1.,  1.])"
      ]
     },
     "execution_count": 96,
     "metadata": {},
     "output_type": "execute_result"
    }
   ],
   "source": [
    "np.linalg.solve(a, b)"
   ]
  },
  {
   "cell_type": "code",
   "execution_count": 97,
   "metadata": {
    "collapsed": false
   },
   "outputs": [
    {
     "data": {
      "text/plain": [
       "array([ 32.,  21.,  41.,  35.,  18.,  30.,  19.,  28.,  14.,  32.,  36.,\n",
       "        26.])"
      ]
     },
     "execution_count": 97,
     "metadata": {},
     "output_type": "execute_result"
    }
   ],
   "source": [
    "np.dot(df.drop(\"PIR\", axis=1).iloc[:df.shape[1]-1, :], np.linalg.solve(a, b))"
   ]
  },
  {
   "cell_type": "markdown",
   "metadata": {},
   "source": [
    "This gives the right solution. \n",
    "\n",
    "This approach could take a while if we had a bigger system and we could have more than 1 solution if we had colinearity between our observations. We can try to approximate the solution."
   ]
  },
  {
   "cell_type": "markdown",
   "metadata": {},
   "source": [
    "### 2nd idea : use the least square approximation (we use a linear regression for this) : "
   ]
  },
  {
   "cell_type": "code",
   "execution_count": 98,
   "metadata": {
    "collapsed": false
   },
   "outputs": [
    {
     "data": {
      "text/plain": [
       "LinearRegression(copy_X=True, fit_intercept=False, n_jobs=1, normalize=False)"
      ]
     },
     "execution_count": 98,
     "metadata": {},
     "output_type": "execute_result"
    }
   ],
   "source": [
    "from sklearn.linear_model import LinearRegression\n",
    "\n",
    "lr = LinearRegression(fit_intercept=False)\n",
    "lr.fit(df.drop(\"PIR\", axis=1), df[\"PIR\"])"
   ]
  },
  {
   "cell_type": "code",
   "execution_count": 99,
   "metadata": {
    "collapsed": false
   },
   "outputs": [
    {
     "data": {
      "text/plain": [
       "array([ 1., -1., -1., -1.,  1.,  1.,  1., -1.,  1., -1., -1.,  1.])"
      ]
     },
     "execution_count": 99,
     "metadata": {},
     "output_type": "execute_result"
    }
   ],
   "source": [
    "lr.coef_\n"
   ]
  },
  {
   "cell_type": "code",
   "execution_count": 106,
   "metadata": {
    "collapsed": false
   },
   "outputs": [
    {
     "name": "stdout",
     "output_type": "stream",
     "text": [
      "all equations are verified ? : True\n"
     ]
    }
   ],
   "source": [
    "import numpy as np \n",
    "print(\"all equations are verified ? :\", all(np.round(np.dot(df.drop(\"PIR\", axis=1), lr.coef_), 1) == df[\"PIR\"].values))"
   ]
  },
  {
   "cell_type": "markdown",
   "metadata": {
    "collapsed": true
   },
   "source": [
    "We found the right solution but we were lucky that the the equation was linear. \n",
    "\n",
    "If it was not the case, we could have tried a regression with polynomial features : sklearn.preprocessing.PolynomialFeatures(). We also could have tried exponential / logarithmic features. "
   ]
  }
 ],
 "metadata": {
  "kernelspec": {
   "display_name": "Python [conda root]",
   "language": "python",
   "name": "conda-root-py"
  },
  "language_info": {
   "codemirror_mode": {
    "name": "ipython",
    "version": 3
   },
   "file_extension": ".py",
   "mimetype": "text/x-python",
   "name": "python",
   "nbconvert_exporter": "python",
   "pygments_lexer": "ipython3",
   "version": "3.5.2"
  }
 },
 "nbformat": 4,
 "nbformat_minor": 2
}
