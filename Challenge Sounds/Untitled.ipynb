{
 "cells": [
  {
   "cell_type": "code",
   "execution_count": 1,
   "metadata": {
    "collapsed": true
   },
   "outputs": [],
   "source": [
    "file = [\"5\", \"20 6 hacker cup\", \"100 20 hacker cup 2013\", \\\n",
    "        \"10 20 MUST BE ABLE TO HACK\", \"55 25 Can you hack\", \"100 20 Hack your way to the cup\"]"
   ]
  },
  {
   "cell_type": "code",
   "execution_count": 2,
   "metadata": {
    "collapsed": true
   },
   "outputs": [],
   "source": [
    "def get_all_splits(array):\n",
    "    if len(array) > 1:\n",
    "        for sub in get_all_splits(array[1:]):\n",
    "            yield [' '.join([array[0],sub[0]])] + sub[1:]\n",
    "            yield [array[0]] + sub\n",
    "    else:\n",
    "        yield array"
   ]
  },
  {
   "cell_type": "code",
   "execution_count": 205,
   "metadata": {},
   "outputs": [
    {
     "data": {
      "text/plain": [
       "[['i am eating pizza'],\n",
       " ['i am eating', 'pizza'],\n",
       " ['i am', 'eating pizza'],\n",
       " ['i am', 'eating', 'pizza'],\n",
       " ['i', 'am eating pizza'],\n",
       " ['i', 'am eating', 'pizza'],\n",
       " ['i', 'am', 'eating pizza'],\n",
       " ['i', 'am', 'eating', 'pizza']]"
      ]
     },
     "execution_count": 205,
     "metadata": {},
     "output_type": "execute_result"
    }
   ],
   "source": [
    "ph = \"i am eating pizza\"\n",
    "def get_all_splits(sentance):\n",
    "    splits = []\n",
    "    len_splits = []\n",
    "    mots = sentance.split()\n",
    "    \n",
    "    #we get all combinations of [0,..,1] with 1 meaning we would put a space and 0 means we will split the array\n",
    "    for index in list(itertools.product([0, 1], repeat=len(mots)-1)):\n",
    "        new_word = [mots[0]]\n",
    "        for i, one in enumerate(index):\n",
    "            if one==0:\n",
    "                new_word[-1] = new_word[-1]+\" \"+mots[i+1]\n",
    "            else: \n",
    "                new_word.append(mots[i+1])\n",
    "        splits.append(new_word)\n",
    "    return(splits)\n",
    "\n",
    "(get_all_splits(ph))"
   ]
  },
  {
   "cell_type": "code",
   "execution_count": 3,
   "metadata": {
    "scrolled": true
   },
   "outputs": [
    {
     "name": "stdout",
     "output_type": "stream",
     "text": [
      "[20, 6] hacker cup\n",
      "3\n",
      "[100, 20] hacker cup 2013\n",
      "10\n",
      "[10, 20] MUST BE ABLE TO HACK\n",
      "2\n",
      "[55, 25] Can you hack\n",
      "8\n",
      "[100, 20] Hack your way to the cup\n",
      "7\n"
     ]
    }
   ],
   "source": [
    "#[wide, height]\n",
    "\n",
    "for line in file[1:]:\n",
    "    size = [int(item) for item in line.split()[:2]]\n",
    "    sentance = \" \".join(line.split()[2:])\n",
    "    print(size, sentance)\n",
    "    \n",
    "    max_found = 1\n",
    "    for words in get_all_splits(sentance.split()):\n",
    "        j=1\n",
    "        length_words = [len(word) for word in words]\n",
    "        \n",
    "        #Let's find the max font size\n",
    "        while max(length_words)*j <= size[0] and (len(words)*j) <= size[1]:\n",
    "            if j > max_found:\n",
    "                max_found = j\n",
    "            j+=1\n",
    "\n",
    "    print(max_found)"
   ]
  }
 ],
 "metadata": {
  "kernelspec": {
   "display_name": "Python 3",
   "language": "python",
   "name": "python3"
  },
  "toc": {
   "nav_menu": {},
   "number_sections": true,
   "sideBar": true,
   "skip_h1_title": false,
   "toc_cell": false,
   "toc_position": {},
   "toc_section_display": "block",
   "toc_window_display": false
  },
  "varInspector": {
   "cols": {
    "lenName": 16,
    "lenType": 16,
    "lenVar": 40
   },
   "kernels_config": {
    "python": {
     "delete_cmd_postfix": "",
     "delete_cmd_prefix": "del ",
     "library": "var_list.py",
     "varRefreshCmd": "print(var_dic_list())"
    },
    "r": {
     "delete_cmd_postfix": ") ",
     "delete_cmd_prefix": "rm(",
     "library": "var_list.r",
     "varRefreshCmd": "cat(var_dic_list()) "
    }
   },
   "types_to_exclude": [
    "module",
    "function",
    "builtin_function_or_method",
    "instance",
    "_Feature"
   ],
   "window_display": false
  }
 },
 "nbformat": 4,
 "nbformat_minor": 2
}
