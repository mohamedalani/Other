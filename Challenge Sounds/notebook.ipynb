{
 "cells": [
  {
   "cell_type": "markdown",
   "metadata": {},
   "source": [
    "# Sounds Challenge"
   ]
  },
  {
   "cell_type": "code",
   "execution_count": 1,
   "metadata": {
    "collapsed": true
   },
   "outputs": [],
   "source": [
    "file = [\"5\", \"20 6 hacker cup\", \"100 20 hacker cup 2013\", \\\n",
    "        \"10 20 MUST BE ABLE TO HACK\", \"55 25 Can you hack\", \"100 20 Hack your way to the cup\"]"
   ]
  },
  {
   "cell_type": "markdown",
   "metadata": {},
   "source": [
    "**First idea**\n",
    "\n",
    "Get all the split combinations of a sentence. We will put each group of splitted words in a different line.  For example, for the sentence \"I love Python\", we will get : \n",
    "- [\"I\", \"love\", \"Python\"] (line 1 : \"I\", line 2 : \"love\", line 3 : \"Python\")\n",
    "- [\"I\", \"love Python\"]\n",
    "- [\"I love\", \"Python]\n",
    "- [\"I love Python\"]\n",
    "\n",
    "Then we try to find the max font such that all the lines fit in the Billboard. \n"
   ]
  },
  {
   "cell_type": "code",
   "execution_count": 2,
   "metadata": {
    "collapsed": true
   },
   "outputs": [],
   "source": [
    "#Recursive function that returns a generator with all combinations\n",
    "def get_all_splits(array):\n",
    "    if len(array) > 1:\n",
    "        for sub in get_all_splits(array[1:]):\n",
    "            yield [' '.join([array[0],sub[0]])] + sub[1:]\n",
    "            yield [array[0]] + sub\n",
    "    else:\n",
    "        yield array"
   ]
  },
  {
   "cell_type": "code",
   "execution_count": 5,
   "metadata": {
    "collapsed": false,
    "scrolled": true
   },
   "outputs": [],
   "source": [
    "#[wide, height]\n",
    "\n",
    "def get_max_font(wide, height, words):    \n",
    "    max_found = 1\n",
    "    for words in get_all_splits(words):\n",
    "        j=1\n",
    "        length_words = [len(word) for word in words]\n",
    "        #Let's find the max font size\n",
    "        while max(length_words)*j <= wide and (len(words)*j) <= height:\n",
    "            if j > max_found:\n",
    "                max_found = j\n",
    "            j+=1\n",
    "    return max_found\n"
   ]
  },
  {
   "cell_type": "code",
   "execution_count": null,
   "metadata": {
    "collapsed": true
   },
   "outputs": [],
   "source": [
    "\n",
    "for i, line in enumerate(file[1:]):\n",
    "    size = [int(item) for item in line.split()[:2]]\n",
    "    sentance = \" \".join(line.split()[2:])\n",
    "    print(\"Case #{}: {}\".format(i, get_max_font(size[0], size[1], sentance.split())))"
   ]
  },
  {
   "cell_type": "markdown",
   "metadata": {},
   "source": [
    "This seems to work pretty well but the complexity is pretty high : $o(2^{n-1})$ with n being the number of words"
   ]
  },
  {
   "cell_type": "markdown",
   "metadata": {},
   "source": [
    "**2nd idea: **\n",
    "\n",
    "We try all the font size from 1 to the max possible. For each font size, we try to fit a maximum number of words. This might not get the max font size as we won't go through all combinations of words but at least it's $o(n*k)$ complexity. With n being the font sizes we test and k being the words in the sentence. "
   ]
  },
  {
   "cell_type": "code",
   "execution_count": 96,
   "metadata": {
    "collapsed": false
   },
   "outputs": [
    {
     "name": "stdout",
     "output_type": "stream",
     "text": [
      "Case #0: 3\n",
      "Case #1: 10\n",
      "Case #2: 2\n",
      "Case #3: 9\n",
      "Case #4: 6\n"
     ]
    }
   ],
   "source": [
    "def get_max_font2(wide, height, words):\n",
    "    for i in range(1, max(wide, height)):\n",
    "        cols = height // i\n",
    "        row_len = 0\n",
    "        col_len = 0\n",
    "        \n",
    "        for word in words: \n",
    "            \n",
    "            if col_len >= cols-1:\n",
    "                return i - 1\n",
    "            \n",
    "            word_length = len(word)*i\n",
    "            if word_length > wide :\n",
    "                return i-1\n",
    "            else : \n",
    "                row_len += word_length\n",
    "            \n",
    "            if row_len > wide :\n",
    "                if col_len >= cols-1:\n",
    "                    return i - 1\n",
    "                else: \n",
    "                    col_len += 1\n",
    "                    row_len = 0\n",
    "                    \n",
    "            \n",
    "    return(i)\n",
    "            \n",
    "for i, line in enumerate(file[1:]):\n",
    "    size = [int(item) for item in line.split()[:2]]\n",
    "    sentance = \" \".join(line.split()[2:])\n",
    "    print(\"Case #{}: {}\".format(i, get_max_font2(size[0], size[1], sentance.split())))"
   ]
  },
  {
   "cell_type": "code",
   "execution_count": 8,
   "metadata": {
    "collapsed": false
   },
   "outputs": [
    {
     "name": "stdout",
     "output_type": "stream",
     "text": [
      "Case #0: 3\n",
      "Case #1: 10\n",
      "Case #2: 2\n",
      "Case #3: 8\n",
      "Case #4: 7\n"
     ]
    }
   ],
   "source": [
    "def process_file(filename):\n",
    "    file = open(\"output.txt\",\"w\") \n",
    "    with open(filename, \"r\") as input:\n",
    "        lines = input.read().split(\"\\n\")\n",
    "        for i, line in enumerate(lines[1:]):\n",
    "            size = [int(item) for item in line.split()[:2]]\n",
    "            sentence = \" \".join(line.split()[2:])\n",
    "            print(\"Case #{}: {}\".format(i, get_max_font(size[0], size[1], sentence.split())))\n",
    "            file.write(\"Case #{}: {}\".format(i, get_max_font(size[0], size[1], sentence.split()))+\"\\n\")\n",
    "    file.close()\n",
    "        \n",
    "        \n",
    "process_file(\"test.txt\")"
   ]
  },
  {
   "cell_type": "code",
   "execution_count": null,
   "metadata": {
    "collapsed": true
   },
   "outputs": [],
   "source": []
  }
 ],
 "metadata": {
  "kernelspec": {
   "display_name": "Python [default]",
   "language": "python",
   "name": "python3"
  },
  "language_info": {
   "codemirror_mode": {
    "name": "ipython",
    "version": 3
   },
   "file_extension": ".py",
   "mimetype": "text/x-python",
   "name": "python",
   "nbconvert_exporter": "python",
   "pygments_lexer": "ipython3",
   "version": "3.5.2"
  },
  "toc": {
   "nav_menu": {},
   "number_sections": true,
   "sideBar": true,
   "skip_h1_title": false,
   "toc_cell": false,
   "toc_position": {},
   "toc_section_display": "block",
   "toc_window_display": false
  },
  "varInspector": {
   "cols": {
    "lenName": 16,
    "lenType": 16,
    "lenVar": 40
   },
   "kernels_config": {
    "python": {
     "delete_cmd_postfix": "",
     "delete_cmd_prefix": "del ",
     "library": "var_list.py",
     "varRefreshCmd": "print(var_dic_list())"
    },
    "r": {
     "delete_cmd_postfix": ") ",
     "delete_cmd_prefix": "rm(",
     "library": "var_list.r",
     "varRefreshCmd": "cat(var_dic_list()) "
    }
   },
   "types_to_exclude": [
    "module",
    "function",
    "builtin_function_or_method",
    "instance",
    "_Feature"
   ],
   "window_display": false
  }
 },
 "nbformat": 4,
 "nbformat_minor": 2
}
